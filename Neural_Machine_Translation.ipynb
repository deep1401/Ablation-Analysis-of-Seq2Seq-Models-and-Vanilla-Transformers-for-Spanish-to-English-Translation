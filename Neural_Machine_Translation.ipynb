{
  "nbformat": 4,
  "nbformat_minor": 0,
  "metadata": {
    "colab": {
      "name": "Neural Machine Translation.ipynb",
      "provenance": [],
      "collapsed_sections": [],
      "toc_visible": true
    },
    "kernelspec": {
      "name": "python3",
      "display_name": "Python 3"
    },
    "accelerator": "GPU"
  },
  "cells": [
    {
      "cell_type": "code",
      "metadata": {
        "id": "CTEWHW0-p-u1",
        "colab_type": "code",
        "colab": {}
      },
      "source": [
        "%reload_ext autoreload\n",
        "%autoreload 2\n",
        "%matplotlib inline"
      ],
      "execution_count": 1,
      "outputs": []
    },
    {
      "cell_type": "code",
      "metadata": {
        "id": "9kDN2DyBu4zj",
        "colab_type": "code",
        "colab": {}
      },
      "source": [
        "from bs4 import BeautifulSoup\n",
        "import pandas as pd\n",
        "from fastai.text import *"
      ],
      "execution_count": 2,
      "outputs": []
    },
    {
      "cell_type": "code",
      "metadata": {
        "id": "YI3M0mITry48",
        "colab_type": "code",
        "colab": {}
      },
      "source": [
        "with open('/content/en-es.tmx',mode='r') as f:\n",
        "  text = f.read()\n",
        "  f.close()"
      ],
      "execution_count": null,
      "outputs": []
    },
    {
      "cell_type": "code",
      "metadata": {
        "id": "XX-p-_fm6mdX",
        "colab_type": "code",
        "colab": {}
      },
      "source": [
        "path = '/content/drive/My\\ Drive/'"
      ],
      "execution_count": 3,
      "outputs": []
    },
    {
      "cell_type": "code",
      "metadata": {
        "id": "x1STmdpluhsB",
        "colab_type": "code",
        "colab": {
          "base_uri": "https://localhost:8080/",
          "height": 319
        },
        "outputId": "6349461c-cb14-4feb-e361-1b4bac691cec"
      },
      "source": [
        "print(text[:500])"
      ],
      "execution_count": null,
      "outputs": [
        {
          "output_type": "stream",
          "text": [
            "<?xml version=\"1.0\" encoding=\"UTF-8\" ?>\n",
            "<tmx version=\"1.4\">\n",
            "<header creationdate=\"Sun Mar  4 00:54:42 2018\"\n",
            "          srclang=\"en\"\n",
            "          adminlang=\"en\"\n",
            "          o-tmf=\"unknown\"\n",
            "          segtype=\"sentence\"\n",
            "          creationtool=\"Uplug\"\n",
            "          creationtoolversion=\"unknown\"\n",
            "          datatype=\"PlainText\" />\n",
            "  <body>\n",
            "    <tu>\n",
            "      <tuv xml:lang=\"en\"><seg>RESOLUTION 55/100</seg></tuv>\n",
            "      <tuv xml:lang=\"es\"><seg>RESOLUCIÓN 55/100</seg></tuv>\n",
            "    </tu>\n",
            "    <tu>\n",
            "      <tuv xml:lang=\"en\"><s\n"
          ],
          "name": "stdout"
        }
      ]
    },
    {
      "cell_type": "code",
      "metadata": {
        "id": "jv9e1MHjujR9",
        "colab_type": "code",
        "colab": {
          "base_uri": "https://localhost:8080/",
          "height": 120
        },
        "outputId": "ad61c146-c410-44d8-ff95-22607d412103"
      },
      "source": [
        "soup = BeautifulSoup(text,'html.parser')\n",
        "row = soup.find('tu')\n",
        "print(row)\n",
        "\n",
        "x = [i for i in row.get_text().split('\\n') if i!='']\n",
        "print(x)"
      ],
      "execution_count": null,
      "outputs": [
        {
          "output_type": "stream",
          "text": [
            "<tu>\n",
            "<tuv xml:lang=\"en\"><seg>RESOLUTION 55/100</seg></tuv>\n",
            "<tuv xml:lang=\"es\"><seg>RESOLUCIÓN 55/100</seg></tuv>\n",
            "</tu>\n",
            "['RESOLUTION 55/100', 'RESOLUCIÓN 55/100']\n"
          ],
          "name": "stdout"
        }
      ]
    },
    {
      "cell_type": "code",
      "metadata": {
        "id": "YfOjIE9MvR5f",
        "colab_type": "code",
        "colab": {}
      },
      "source": [
        "text_list = []\n",
        "rows = soup.find_all('tu')\n",
        "for row in rows:\n",
        "  x = [i for i in row.get_text().split('\\n') if i!='']\n",
        "  text_list.append(x)"
      ],
      "execution_count": null,
      "outputs": []
    },
    {
      "cell_type": "code",
      "metadata": {
        "id": "FAo-80WZwfBC",
        "colab_type": "code",
        "colab": {}
      },
      "source": [
        "df = pd.DataFrame(text_list)"
      ],
      "execution_count": null,
      "outputs": []
    },
    {
      "cell_type": "code",
      "metadata": {
        "id": "-POoTod3wtGn",
        "colab_type": "code",
        "colab": {
          "base_uri": "https://localhost:8080/",
          "height": 221
        },
        "outputId": "16b00d34-4444-4ece-b67f-030dde35ae1d"
      },
      "source": [
        "df.head()"
      ],
      "execution_count": null,
      "outputs": [
        {
          "output_type": "execute_result",
          "data": {
            "text/html": [
              "<div>\n",
              "<style scoped>\n",
              "    .dataframe tbody tr th:only-of-type {\n",
              "        vertical-align: middle;\n",
              "    }\n",
              "\n",
              "    .dataframe tbody tr th {\n",
              "        vertical-align: top;\n",
              "    }\n",
              "\n",
              "    .dataframe thead th {\n",
              "        text-align: right;\n",
              "    }\n",
              "</style>\n",
              "<table border=\"1\" class=\"dataframe\">\n",
              "  <thead>\n",
              "    <tr style=\"text-align: right;\">\n",
              "      <th></th>\n",
              "      <th>Unnamed: 0</th>\n",
              "      <th>en</th>\n",
              "      <th>es</th>\n",
              "    </tr>\n",
              "  </thead>\n",
              "  <tbody>\n",
              "    <tr>\n",
              "      <th>0</th>\n",
              "      <td>0</td>\n",
              "      <td>resolution 55/100</td>\n",
              "      <td>resolución 55/100</td>\n",
              "    </tr>\n",
              "    <tr>\n",
              "      <th>1</th>\n",
              "      <td>1</td>\n",
              "      <td>adopted at the 81st plenary meeting, on 4 dece...</td>\n",
              "      <td>aprobada en la 81a. sesión plenaria, celebrada...</td>\n",
              "    </tr>\n",
              "    <tr>\n",
              "      <th>2</th>\n",
              "      <td>2</td>\n",
              "      <td>in favour: afghanistan, algeria, angola, antig...</td>\n",
              "      <td>votos a favor: afganistán, angola, antigua y b...</td>\n",
              "    </tr>\n",
              "    <tr>\n",
              "      <th>3</th>\n",
              "      <td>3</td>\n",
              "      <td>abstentions: albania, andorra, australia, aust...</td>\n",
              "      <td>abstenciones: albania, alemania, andorra, aust...</td>\n",
              "    </tr>\n",
              "    <tr>\n",
              "      <th>4</th>\n",
              "      <td>4</td>\n",
              "      <td>55/100. respect for the right to universal fre...</td>\n",
              "      <td>55/100. respeto del derecho a la libertad univ...</td>\n",
              "    </tr>\n",
              "  </tbody>\n",
              "</table>\n",
              "</div>"
            ],
            "text/plain": [
              "   Unnamed: 0  ...                                                 es\n",
              "0           0  ...                                  resolución 55/100\n",
              "1           1  ...  aprobada en la 81a. sesión plenaria, celebrada...\n",
              "2           2  ...  votos a favor: afganistán, angola, antigua y b...\n",
              "3           3  ...  abstenciones: albania, alemania, andorra, aust...\n",
              "4           4  ...  55/100. respeto del derecho a la libertad univ...\n",
              "\n",
              "[5 rows x 3 columns]"
            ]
          },
          "metadata": {
            "tags": []
          },
          "execution_count": 55
        }
      ]
    },
    {
      "cell_type": "code",
      "metadata": {
        "id": "uBwxTlr_yXbV",
        "colab_type": "code",
        "colab": {}
      },
      "source": [
        "df.columns = ['en','es']"
      ],
      "execution_count": null,
      "outputs": []
    },
    {
      "cell_type": "code",
      "metadata": {
        "id": "_7IAVT5xzdky",
        "colab_type": "code",
        "colab": {}
      },
      "source": [
        "df.drop(8506,axis=0,inplace=True)"
      ],
      "execution_count": null,
      "outputs": []
    },
    {
      "cell_type": "code",
      "metadata": {
        "id": "tScNpce7ykZV",
        "colab_type": "code",
        "colab": {}
      },
      "source": [
        "df.to_csv('/content/drive/My Drive/translation_data.csv')"
      ],
      "execution_count": null,
      "outputs": []
    },
    {
      "cell_type": "code",
      "metadata": {
        "id": "-oAQgGg_5vO9",
        "colab_type": "code",
        "colab": {}
      },
      "source": [
        "df = pd.read_csv('/content/drive/My Drive/translation_data.csv')"
      ],
      "execution_count": null,
      "outputs": []
    },
    {
      "cell_type": "markdown",
      "metadata": {
        "id": "nho3Ozncz7uU",
        "colab_type": "text"
      },
      "source": [
        "### Pre Processing"
      ]
    },
    {
      "cell_type": "code",
      "metadata": {
        "id": "sKjETKiUypML",
        "colab_type": "code",
        "colab": {}
      },
      "source": [
        "df['en'] = df['en'].apply(lambda x:x.lower())\n",
        "df['es'] = df['es'].apply(lambda x:x.lower())"
      ],
      "execution_count": null,
      "outputs": []
    },
    {
      "cell_type": "code",
      "metadata": {
        "id": "IEH6ZSt0zaaA",
        "colab_type": "code",
        "colab": {}
      },
      "source": [
        "def seq2seq_collate(samples, pad_idx=1, pad_first=True, backwards=False):\n",
        "    \"Function that collect samples and adds padding.\"\n",
        "    samples = to_data(samples)\n",
        "    max_len_x,max_len_y = max([len(s[0]) for s in samples]),max([len(s[1]) for s in samples])\n",
        "    res_x = torch.zeros(len(samples), max_len_x).long() + pad_idx\n",
        "    res_y = torch.zeros(len(samples), max_len_y).long() + pad_idx\n",
        "    if backwards: pad_first = not pad_first\n",
        "    for i,s in enumerate(samples):\n",
        "        if pad_first: \n",
        "            res_x[i,-len(s[0]):],res_y[i,-len(s[1]):] = LongTensor(s[0]),LongTensor(s[1])\n",
        "        else:         \n",
        "            res_x[i,:len(s[0]):],res_y[i,:len(s[1]):] = LongTensor(s[0]),LongTensor(s[1])\n",
        "    if backwards: res_x,res_y = res_x.flip(1),res_y.flip(1)\n",
        "    return res_x,res_y"
      ],
      "execution_count": 5,
      "outputs": []
    },
    {
      "cell_type": "code",
      "metadata": {
        "id": "fTaQb4yL1Wat",
        "colab_type": "code",
        "colab": {}
      },
      "source": [
        "class Seq2SeqDataBunch(TextDataBunch):\n",
        "    \"Create a `TextDataBunch` suitable for training an RNN classifier.\"\n",
        "    @classmethod\n",
        "    def create(cls, train_ds, valid_ds, test_ds=None, path:PathOrStr='.', bs:int=32, val_bs:int=None, pad_idx=1,\n",
        "               dl_tfms=None, pad_first=False, device:torch.device=None, no_check:bool=False, backwards:bool=False, **dl_kwargs) -> DataBunch:\n",
        "        \"Function that transform the `datasets` in a `DataBunch` for classification. Passes `**dl_kwargs` on to `DataLoader()`\"\n",
        "        datasets = cls._init_ds(train_ds, valid_ds, test_ds)\n",
        "        val_bs = ifnone(val_bs, bs)\n",
        "        collate_fn = partial(seq2seq_collate, pad_idx=pad_idx, pad_first=pad_first, backwards=backwards)\n",
        "        train_sampler = SortishSampler(datasets[0].x, key=lambda t: len(datasets[0][t][0].data), bs=bs//2)\n",
        "        train_dl = DataLoader(datasets[0], batch_size=bs, sampler=train_sampler, drop_last=True, **dl_kwargs)\n",
        "        dataloaders = [train_dl]\n",
        "        for ds in datasets[1:]:\n",
        "            lengths = [len(t) for t in ds.x.items]\n",
        "            sampler = SortSampler(ds.x, key=lengths.__getitem__)\n",
        "            dataloaders.append(DataLoader(ds, batch_size=val_bs, sampler=sampler, **dl_kwargs))\n",
        "        return cls(*dataloaders, path=path, device=device, collate_fn=collate_fn, no_check=no_check)\n"
      ],
      "execution_count": 6,
      "outputs": []
    },
    {
      "cell_type": "code",
      "metadata": {
        "id": "CFlfo11y6HqB",
        "colab_type": "code",
        "colab": {}
      },
      "source": [
        "class Seq2SeqTextList(TextList):\n",
        "  _bunch = Seq2SeqDataBunch\n",
        "  _label_cls = TextList"
      ],
      "execution_count": 7,
      "outputs": []
    },
    {
      "cell_type": "code",
      "metadata": {
        "id": "PK4aW_X46Uzh",
        "colab_type": "code",
        "colab": {
          "base_uri": "https://localhost:8080/",
          "height": 38
        },
        "outputId": "74157533-833f-416a-b7b0-48a9cd1c1032"
      },
      "source": [
        "src = Seq2SeqTextList.from_df(df,path=path,cols = 'es').split_by_rand_pct(seed=42).label_from_df(cols='en',label_cls=TextList)"
      ],
      "execution_count": null,
      "outputs": [
        {
          "output_type": "display_data",
          "data": {
            "text/html": [
              ""
            ],
            "text/plain": [
              "<IPython.core.display.HTML object>"
            ]
          },
          "metadata": {
            "tags": []
          }
        },
        {
          "output_type": "display_data",
          "data": {
            "text/html": [
              ""
            ],
            "text/plain": [
              "<IPython.core.display.HTML object>"
            ]
          },
          "metadata": {
            "tags": []
          }
        },
        {
          "output_type": "display_data",
          "data": {
            "text/html": [
              ""
            ],
            "text/plain": [
              "<IPython.core.display.HTML object>"
            ]
          },
          "metadata": {
            "tags": []
          }
        },
        {
          "output_type": "display_data",
          "data": {
            "text/html": [
              ""
            ],
            "text/plain": [
              "<IPython.core.display.HTML object>"
            ]
          },
          "metadata": {
            "tags": []
          }
        }
      ]
    },
    {
      "cell_type": "code",
      "metadata": {
        "id": "OzAE8ksn6-XU",
        "colab_type": "code",
        "colab": {
          "base_uri": "https://localhost:8080/",
          "height": 54
        },
        "outputId": "f01928c0-1779-4619-9695-c6aa891366a8"
      },
      "source": [
        "np.percentile([len(o) for o in src.train.x.items] + [len(o) for o in src.valid.x.items], 90)"
      ],
      "execution_count": null,
      "outputs": [
        {
          "output_type": "execute_result",
          "data": {
            "text/plain": [
              "114.0"
            ]
          },
          "metadata": {
            "tags": []
          },
          "execution_count": 42
        }
      ]
    },
    {
      "cell_type": "code",
      "metadata": {
        "id": "x1bysIv17Ga4",
        "colab_type": "code",
        "colab": {
          "base_uri": "https://localhost:8080/",
          "height": 54
        },
        "outputId": "706c7aa0-5ae6-4560-d3c6-cdcea378bf99"
      },
      "source": [
        "np.percentile([len(o) for o in src.train.y.items] + [len(o) for o in src.valid.y.items], 90)"
      ],
      "execution_count": null,
      "outputs": [
        {
          "output_type": "execute_result",
          "data": {
            "text/plain": [
              "101.0"
            ]
          },
          "metadata": {
            "tags": []
          },
          "execution_count": 43
        }
      ]
    },
    {
      "cell_type": "code",
      "metadata": {
        "id": "xAMU6Uxc71EF",
        "colab_type": "code",
        "colab": {}
      },
      "source": [
        "src = src.filter_by_func(lambda x,y:len(x) > 120 or len(y) > 120)"
      ],
      "execution_count": null,
      "outputs": []
    },
    {
      "cell_type": "code",
      "metadata": {
        "id": "YYGbeehud_4S",
        "colab_type": "code",
        "colab": {}
      },
      "source": [
        "xb,yb = next(iter(data.train_dl))"
      ],
      "execution_count": null,
      "outputs": []
    },
    {
      "cell_type": "code",
      "metadata": {
        "id": "X4sem4YmeCLo",
        "colab_type": "code",
        "colab": {
          "base_uri": "https://localhost:8080/",
          "height": 54
        },
        "outputId": "54c4829e-0609-43e6-a859-eb67d7700a55"
      },
      "source": [
        "yb.shape"
      ],
      "execution_count": null,
      "outputs": [
        {
          "output_type": "execute_result",
          "data": {
            "text/plain": [
              "torch.Size([64, 30])"
            ]
          },
          "metadata": {
            "tags": []
          },
          "execution_count": 56
        }
      ]
    },
    {
      "cell_type": "code",
      "metadata": {
        "id": "ibkIbywo8nXR",
        "colab_type": "code",
        "colab": {}
      },
      "source": [
        "data = src.databunch()"
      ],
      "execution_count": null,
      "outputs": []
    },
    {
      "cell_type": "code",
      "metadata": {
        "id": "b9nDDBjTM6yC",
        "colab_type": "code",
        "colab": {
          "base_uri": "https://localhost:8080/",
          "height": 54
        },
        "outputId": "574b396e-3cdc-4eb1-e7a6-bfa85db482a7"
      },
      "source": [
        "len(src.train + src.valid)"
      ],
      "execution_count": null,
      "outputs": [
        {
          "output_type": "execute_result",
          "data": {
            "text/plain": [
              "7786"
            ]
          },
          "metadata": {
            "tags": []
          },
          "execution_count": 46
        }
      ]
    },
    {
      "cell_type": "code",
      "metadata": {
        "id": "sLPQmYvc8rXw",
        "colab_type": "code",
        "colab": {}
      },
      "source": [
        "data.save('/content/drive/My Drive/data_save.pkl')"
      ],
      "execution_count": null,
      "outputs": []
    },
    {
      "cell_type": "code",
      "metadata": {
        "id": "wF0auEq09Y5v",
        "colab_type": "code",
        "colab": {
          "base_uri": "https://localhost:8080/",
          "height": 319
        },
        "outputId": "5bc5a778-bdd4-4987-e26c-b2897a99727e"
      },
      "source": [
        "# Sanity Check\n",
        "data"
      ],
      "execution_count": 9,
      "outputs": [
        {
          "output_type": "execute_result",
          "data": {
            "text/plain": [
              "Seq2SeqDataBunch;\n",
              "\n",
              "Train: LabelList (6242 items)\n",
              "x: Seq2SeqTextList\n",
              "xxbos resolución 55 / 100,xxbos aprobada en la 81a . sesión plenaria , celebrada el 4 de diciembre de 2000 , por recomendación de la comisión ( a / 55 / 602 / add.2 , párr . 94),el proyecto de resolución recomendado en el informe fue patrocinado en la comisión por los países siguientes : bolivia , cuba , el salvador , ghana y honduras . en votación registrada de 106 votos contra uno y 67 abstenciones , como sigue :,xxbos 55 / 100 . respeto del derecho a la libertad universal de xxunk e importancia vital de la reunificación de las familias,xxbos recordando las disposiciones de la declaración universal de derechos humanosresolución 217 a ( iii ) . , y el artículo 12 del pacto internacional de derechos civiles y políticosvéase resolución 2200 a ( xxi ) , anexo . ,,xxbos subrayando que , conforme se declara en el programa de acción de la conferencia internacional sobre la población y el desarrolloinforme de la conferencia internacional sobre la población y el desarrollo , el cairo , 5 a 13 de septiembre de 1994 ( publicación de las naciones unidas , número de venta : s.95.xiii.18 ) , cap . i , resolución 1 , anexo . , la reunificación de las familias de los migrantes documentados es un factor importante en las migraciones internacionales y que las remesas de los migrantes documentados a sus países de origen constituyen a xxunk una fuente muy importante de xxunk y contribuyen al bienestar de los familiares que xxunk xxunk ,\n",
              "y: TextList\n",
              "xxbos resolution 55 / 100,xxbos adopted at the 81st plenary meeting , on 4 december 2000 , on the recommendation of the committee ( a / 55 / 602 / add.2 and corr.1 , para . 94),the draft resolution recommended in the report was sponsored in the committee by : bolivia , cuba , el salvador , ghana and honduras . by a recorded vote of 106 to 1 , with 67 abstentions , as follows :,xxbos 55 / 100 . respect for the right to universal freedom of travel and the vital importance of family reunification,xxbos recalling the provisions of the universal declaration of human rights , resolution 217 a ( iii ) . as well as article 12 of the international covenant on civil and political rights , see resolution 2200 a ( xxi ) , annex .,xxbos stressing that , as stated in the programme of action of the international conference on population and development , report of the international conference on population and development , cairo , 5 - 13 september 1994 ( united nations publication , sales no . e.95.xiii.18 ) , chap . i , resolution 1 , annex . family reunification of documented migrants is an important factor in international migration and that xxunk by documented migrants to their countries of origin often constitute a very important source of foreign exchange and are xxunk in improving the well - being of relatives xxunk xxunk ,\n",
              "Path: /content/drive/My\\ Drive;\n",
              "\n",
              "Valid: LabelList (1544 items)\n",
              "x: Seq2SeqTextList\n",
              "xxbos 6 . acoge con satisfacción la labor xxunk a cabo en el plano regional y en estrecha colaboración con las respectivas comisiones regionales a fin de ejecutar los programas de acción para el desarrollo sostenible que podrían xxunk aportaciones xxunk al proceso preparatorio y a la propia cumbre ;,xxbos observando con reconocimiento la evaluación realizada por el secretario general de la aplicación de los resultados de las principales conferencias y cumbres de las naciones unidas en lo relativo a la promoción de los derechos y el bienestar de las personas con discapacidad , asegurando su plena participación e igualdad , así como las medidas adoptadas por el sistema de las naciones unidas para prevenir las condiciones de xxunk a / 56 / 169 y corr.1 , párrs . 25 y 26 . ,,xxbos 7 . pide también al secretario general que xxunk movilizar los recursos financieros necesarios para mantener al instituto xxunk del personal básico del cuadro orgánico que necesita para poder xxunk con eficacia en el cumplimiento de las obligaciones xxunk en su mandato ;,xxbos resolución 55 / 99,xxbos 9 . pide a los organismos especializados y a las demás organizaciones competentes del sistema de las naciones unidas que proporcionen información sobre :\n",
              "y: TextList\n",
              "xxbos 6 . welcomes the work undertaken at the regional level , in close collaboration with the respective regional commissions , to implement action programmes for sustainable development that could provide substantive inputs to the preparatory process and the summit itself ;,xxbos noting with appreciation the assessment by the secretary - general of the implementation of the outcomes of major united nations conferences and summits to promote the rights and well - being of persons with disabilities , ensuring their full participation and equality , as well as the measures undertaken by the united nations system aimed at preventing xxunk conditions , see a / 56 / 169 and corr.1 , paras . 25 and 26 .,xxbos 7 . also requests the secretary - general to xxunk his efforts to mobilize the financial resources necessary to maintain the institute with the core professional staff required to enable it to function effectively in the fulfilment of its mandated obligations ;,xxbos resolution 55 / 99,xxbos 9 . requests the specialized agencies and other organizations of the united nations system concerned to provide information on :\n",
              "Path: /content/drive/My\\ Drive;\n",
              "\n",
              "Test: None"
            ]
          },
          "metadata": {
            "tags": []
          },
          "execution_count": 9
        }
      ]
    },
    {
      "cell_type": "code",
      "metadata": {
        "id": "sCfQ3gqm9q9m",
        "colab_type": "code",
        "colab": {}
      },
      "source": [
        "data = load_data('/content/drive/My Drive')"
      ],
      "execution_count": 8,
      "outputs": []
    },
    {
      "cell_type": "code",
      "metadata": {
        "id": "qPZ9UgPE9xdW",
        "colab_type": "code",
        "colab": {
          "base_uri": "https://localhost:8080/",
          "height": 882
        },
        "outputId": "96dce6cb-9e31-401d-e004-419c308ebd9d"
      },
      "source": [
        "data.show_batch()"
      ],
      "execution_count": null,
      "outputs": [
        {
          "output_type": "display_data",
          "data": {
            "text/html": [
              "<table border=\"1\" class=\"dataframe\">\n",
              "  <thead>\n",
              "    <tr style=\"text-align: right;\">\n",
              "      <th>text</th>\n",
              "      <th>target</th>\n",
              "    </tr>\n",
              "  </thead>\n",
              "  <tbody>\n",
              "    <tr>\n",
              "      <td>xxbos 12 . insta a los estados a que adopten medidas especiales para proteger , en particular a las niñas afectadas por la guerra de las enfermedades de transmisión sexual , como el virus de la inmunodeficiencia humana y el síndrome de inmunodeficiencia adquirida y de la violencia que tiene su origen en el género , como la violación y el abuso sexual , la tortura , la explotación sexual</td>\n",
              "      <td>xxbos 12 . urges states to take special measures for the protection of war - affected girls and in particular to protect them from sexually transmitted diseases , such as human immunodeficiency virus / acquired immunodeficiency syndrome , and gender - based violence , including rape and sexual abuse , torture , sexual exploitation , abduction and forced labour , paying special attention to refugee and displaced girls , and to take into account the special needs of the war - affected girl child in the delivery of humanitarian assistance and disarmament , demobilization and reintegration processes ;</td>\n",
              "    </tr>\n",
              "    <tr>\n",
              "      <td>xxbos recordando el reconocimiento mutuo entre el gobierno del estado de israel y la organización de liberación de palestina , la representante del pueblo palestino , y la firma por ambas partes de la declaración de principios sobre las disposiciones relacionadas con un gobierno autónomo provisional , en washington , d.c . , el 13 de septiembre de 1993a / 48 / 486-s / 26560 , anexo . , así</td>\n",
              "      <td>xxbos recalling the mutual recognition between the government of the state of israel and the palestine liberation organization , the representative of the palestinian people , and the signing by the two parties of the declaration of principles on interim self - government arrangements in washington , d.c . , on 13 september 1993,a / 48 / 486-s / 26560 , annex . as well as the subsequent implementation agreements , including the israeli - palestinian interim agreement on the west bank and the gaza strip , signed in washington , d.c . , on 28 september 1995,a / 51 / 889-s / 1997 / 357 , annex .</td>\n",
              "    </tr>\n",
              "    <tr>\n",
              "      <td>xxbos reconociendo la función de la comisión de ciencia y tecnología para el desarrollo en la coordinación de las actividades del sistema de las naciones unidas en la esfera de la ciencia y la tecnología para el desarrollo , tomando nota de la labor que realiza la comisión en su programa de trabajo para los estados miembros , especialmente los países en desarrollo , y su labor con algunos países</td>\n",
              "      <td>xxbos recognizing the role of the commission on science and technology for development in coordinating the activities of the united nations system in the area of science and technology for development , noting the work being undertaken by the commission in its work programme for member states , especially the developing countries , and its work with some countries with economies in transition , emphasizing the importance of the activities that are to be pursued within the framework of the commission , including a broad xxunk of new global challenges in science and technology , and encouraging support for those undertakings ,</td>\n",
              "    </tr>\n",
              "    <tr>\n",
              "      <td>xxbos aprobada en la 87a . sesión plenaria , celebrada el 20 de diciembre de 2000 , sin votación , por recomendación de la comisión ( a / 55 / 579 / add.1 , párr . 11)el proyecto de resolución recomendado en el informe fue patrocinado en la comisión por los países siguientes : afganistán , armenia , azerbaiyán , belarús , bulgaria , burkina faso , ex república yugoslava</td>\n",
              "      <td>xxbos adopted at the 87th plenary meeting , on 20 december 2000 , without a vote , on the recommendation of the committee ( a / 55 / 579 / add.1 , para . 11)the draft resolution recommended in the report was sponsored in the committee by : afghanistan , armenia , azerbaijan , belarus , bulgaria , burkina faso , georgia , iran ( islamic republic of ) , kazakhstan , kyrgyzstan , lao people 's democratic republic , mongolia , paraguay , philippines , poland , republic of moldova , romania , russian federation , swaziland , tajikistan , the former yugoslav republic of macedonia , turkey , turkmenistan and ukraine .</td>\n",
              "    </tr>\n",
              "    <tr>\n",
              "      <td>xxbos a ) informar , xxunk y hacer comprender al público de manera concreta , equilibrada y objetiva la importancia de las medidas multilaterales en la esfera de la limitación de armamentos y el desarme , en particular de las medidas adoptadas por las naciones unidas y la conferencia de desarme , y del apoyo a esas medidas y , entre otras cosas , de que se sigan publicando ,</td>\n",
              "      <td>xxbos ( a ) to inform , to xxunk and to xxunk public understanding of the importance of multilateral action and support for it , including action by the united nations and the conference on disarmament , in the field of arms limitation and disarmament , in a factual , balanced and objective manner , and , inter alia , to continue to publish in all official languages the united nations disarmament yearbook , periodic hard copy and regular electronic xxunk of the status of multilateral arms regulation and disarmament agreements and ad hoc publications in hard copy and electronic form ;</td>\n",
              "    </tr>\n",
              "  </tbody>\n",
              "</table>"
            ],
            "text/plain": [
              "<IPython.core.display.HTML object>"
            ]
          },
          "metadata": {
            "tags": []
          }
        }
      ]
    },
    {
      "cell_type": "markdown",
      "metadata": {
        "id": "oDnelgzD-A6y",
        "colab_type": "text"
      },
      "source": [
        "### Embedding Model"
      ]
    },
    {
      "cell_type": "code",
      "metadata": {
        "id": "sB4NmgFB91qa",
        "colab_type": "code",
        "colab": {
          "base_uri": "https://localhost:8080/",
          "height": 253
        },
        "outputId": "6fb1128a-50f5-4204-97a9-8e9ae2b645a1"
      },
      "source": [
        "# Downloading Embeddings from fastext\n",
        "!pip install fasttext"
      ],
      "execution_count": null,
      "outputs": [
        {
          "output_type": "stream",
          "text": [
            "Collecting fasttext\n",
            "\u001b[?25l  Downloading https://files.pythonhosted.org/packages/f8/85/e2b368ab6d3528827b147fdb814f8189acc981a4bc2f99ab894650e05c40/fasttext-0.9.2.tar.gz (68kB)\n",
            "\r\u001b[K     |████▊                           | 10kB 26.1MB/s eta 0:00:01\r\u001b[K     |█████████▌                      | 20kB 2.8MB/s eta 0:00:01\r\u001b[K     |██████████████▎                 | 30kB 3.8MB/s eta 0:00:01\r\u001b[K     |███████████████████             | 40kB 4.1MB/s eta 0:00:01\r\u001b[K     |███████████████████████▉        | 51kB 3.2MB/s eta 0:00:01\r\u001b[K     |████████████████████████████▋   | 61kB 3.7MB/s eta 0:00:01\r\u001b[K     |████████████████████████████████| 71kB 2.8MB/s \n",
            "\u001b[?25hRequirement already satisfied: pybind11>=2.2 in /usr/local/lib/python3.6/dist-packages (from fasttext) (2.5.0)\n",
            "Requirement already satisfied: setuptools>=0.7.0 in /usr/local/lib/python3.6/dist-packages (from fasttext) (47.1.1)\n",
            "Requirement already satisfied: numpy in /usr/local/lib/python3.6/dist-packages (from fasttext) (1.18.5)\n",
            "Building wheels for collected packages: fasttext\n",
            "  Building wheel for fasttext (setup.py) ... \u001b[?25l\u001b[?25hdone\n",
            "  Created wheel for fasttext: filename=fasttext-0.9.2-cp36-cp36m-linux_x86_64.whl size=3013473 sha256=0e4a37a924dc9e7663dcf28104c35948ceeab0b4066fbe22f45c889968b818bb\n",
            "  Stored in directory: /root/.cache/pip/wheels/98/ba/7f/b154944a1cf5a8cee91c154b75231136cc3a3321ab0e30f592\n",
            "Successfully built fasttext\n",
            "Installing collected packages: fasttext\n",
            "Successfully installed fasttext-0.9.2\n"
          ],
          "name": "stdout"
        }
      ]
    },
    {
      "cell_type": "code",
      "metadata": {
        "id": "595RUrdm--43",
        "colab_type": "code",
        "colab": {}
      },
      "source": [
        "from fasttext import FastText as ft"
      ],
      "execution_count": null,
      "outputs": []
    },
    {
      "cell_type": "code",
      "metadata": {
        "id": "Dzj3XlLn_c2I",
        "colab_type": "code",
        "colab": {
          "base_uri": "https://localhost:8080/",
          "height": 401
        },
        "outputId": "957c0dfa-783c-4c05-b070-c2ea04d3987a"
      },
      "source": [
        "# DON'T USE. VERY SHITTY METHOD\n",
        "\n",
        "# Downloading Pretrained Word Embedding for both languages \n",
        "#! wget https://dl.fbaipublicfiles.com/fasttext/vectors-crawl/cc.en.300.bin.gz -P {path}\n",
        "#! wget https://dl.fbaipublicfiles.com/fasttext/vectors-crawl/cc.es.300.bin.gz -P {path}"
      ],
      "execution_count": null,
      "outputs": [
        {
          "output_type": "stream",
          "text": [
            "--2020-06-17 06:37:09--  https://dl.fbaipublicfiles.com/fasttext/vectors-crawl/cc.en.300.bin.gz\n",
            "Resolving dl.fbaipublicfiles.com (dl.fbaipublicfiles.com)... 172.67.9.4, 104.22.74.142, 104.22.75.142, ...\n",
            "Connecting to dl.fbaipublicfiles.com (dl.fbaipublicfiles.com)|172.67.9.4|:443... connected.\n",
            "HTTP request sent, awaiting response... 200 OK\n",
            "Length: 4503593528 (4.2G) [application/octet-stream]\n",
            "Saving to: ‘/content/drive/My Drive/cc.en.300.bin.gz’\n",
            "\n",
            "cc.en.300.bin.gz    100%[===================>]   4.19G  12.4MB/s    in 5m 49s  \n",
            "\n",
            "2020-06-17 06:42:58 (12.3 MB/s) - ‘/content/drive/My Drive/cc.en.300.bin.gz’ saved [4503593528/4503593528]\n",
            "\n",
            "--2020-06-17 06:43:01--  https://dl.fbaipublicfiles.com/fasttext/vectors-crawl/cc.es.300.bin.gz\n",
            "Resolving dl.fbaipublicfiles.com (dl.fbaipublicfiles.com)... 104.22.74.142, 172.67.9.4, 104.22.75.142, ...\n",
            "Connecting to dl.fbaipublicfiles.com (dl.fbaipublicfiles.com)|104.22.74.142|:443... connected.\n",
            "HTTP request sent, awaiting response... 200 OK\n",
            "Length: 4500107671 (4.2G) [application/octet-stream]\n",
            "Saving to: ‘/content/drive/My Drive/cc.es.300.bin.gz’\n",
            "\n",
            "cc.es.300.bin.gz    100%[===================>]   4.19G  12.0MB/s    in 6m 24s  \n",
            "\n",
            "2020-06-17 06:49:26 (11.2 MB/s) - ‘/content/drive/My Drive/cc.es.300.bin.gz’ saved [4500107671/4500107671]\n",
            "\n"
          ],
          "name": "stdout"
        }
      ]
    },
    {
      "cell_type": "code",
      "metadata": {
        "id": "rrNA-SmO9UvB",
        "colab_type": "code",
        "colab": {}
      },
      "source": [
        "import fasttext.util"
      ],
      "execution_count": null,
      "outputs": []
    },
    {
      "cell_type": "code",
      "metadata": {
        "id": "_Gse3kDf9DsJ",
        "colab_type": "code",
        "colab": {
          "base_uri": "https://localhost:8080/",
          "height": 87
        },
        "outputId": "237af361-af37-4a54-8e85-2606a76d26a1"
      },
      "source": [
        "fasttext.util.download_model('es',if_exists='ignore')"
      ],
      "execution_count": null,
      "outputs": [
        {
          "output_type": "stream",
          "text": [
            "Downloading https://dl.fbaipublicfiles.com/fasttext/vectors-crawl/cc.es.300.bin.gz\n",
            "\n"
          ],
          "name": "stdout"
        },
        {
          "output_type": "execute_result",
          "data": {
            "text/plain": [
              "'cc.es.300.bin'"
            ]
          },
          "metadata": {
            "tags": []
          },
          "execution_count": 52
        }
      ]
    },
    {
      "cell_type": "code",
      "metadata": {
        "id": "skKGzVjHApI6",
        "colab_type": "code",
        "colab": {
          "base_uri": "https://localhost:8080/",
          "height": 87
        },
        "outputId": "ec4adc01-5147-4679-a982-f0e232d89726"
      },
      "source": [
        "fasttext.util.download_model('en',if_exists='ignore')"
      ],
      "execution_count": null,
      "outputs": [
        {
          "output_type": "stream",
          "text": [
            "Downloading https://dl.fbaipublicfiles.com/fasttext/vectors-crawl/cc.en.300.bin.gz\n",
            "\n"
          ],
          "name": "stdout"
        },
        {
          "output_type": "execute_result",
          "data": {
            "text/plain": [
              "'cc.en.300.bin'"
            ]
          },
          "metadata": {
            "tags": []
          },
          "execution_count": 19
        }
      ]
    },
    {
      "cell_type": "code",
      "metadata": {
        "id": "qpABdQkIGCSR",
        "colab_type": "code",
        "colab": {
          "base_uri": "https://localhost:8080/"
        },
        "outputId": "d2218a1b-83f2-40ca-fedf-96b587ed5d63"
      },
      "source": [
        "es_vecs = ft.load_model('cc.es.300.bin')\n",
        "en_vecs = ft.load_model('cc.en.300.bin')"
      ],
      "execution_count": null,
      "outputs": [
        {
          "output_type": "stream",
          "text": [
            "Warning : `load_model` does not return WordVectorModel or SupervisedModel any more, but a `FastText` object which is very similar.\n"
          ],
          "name": "stderr"
        }
      ]
    },
    {
      "cell_type": "code",
      "metadata": {
        "id": "O7izNQ8OF7AA",
        "colab_type": "code",
        "colab": {}
      },
      "source": [
        "def create_emb(vecs, itos, em_sz=300, mult=1.):\n",
        "  emb = nn.Embedding(len(itos), em_sz, padding_idx=1)\n",
        "  wgts = emb.weight.data\n",
        "  vec_dic = {w: vecs.get_word_vector(w) for w in vecs.get_words()}\n",
        "  miss = []\n",
        "  for i,w in enumerate(itos):\n",
        "    try: wgts[i] = tensor(vec_dic[w])\n",
        "    except: miss.append(w)\n",
        "  return emb"
      ],
      "execution_count": null,
      "outputs": []
    },
    {
      "cell_type": "code",
      "metadata": {
        "id": "-7pwlcfojc72",
        "colab_type": "code",
        "colab": {}
      },
      "source": [
        "emb_enc = create_emb(es_vecs, data.x.vocab.itos)\n",
        "emb_dec = create_emb(en_vecs, data.y.vocab.itos)"
      ],
      "execution_count": null,
      "outputs": []
    },
    {
      "cell_type": "code",
      "metadata": {
        "id": "R8SvBZf1q0gY",
        "colab_type": "code",
        "colab": {
          "base_uri": "https://localhost:8080/"
        },
        "outputId": "32712b37-2494-4598-beb9-8435736b62e5"
      },
      "source": [
        "print(emb_enc.weight.size())\n",
        "print(emb_dec.weight.size())"
      ],
      "execution_count": null,
      "outputs": [
        {
          "output_type": "stream",
          "text": [
            "torch.Size([5424, 300])\n",
            "torch.Size([4576, 300])\n"
          ],
          "name": "stdout"
        }
      ]
    },
    {
      "cell_type": "code",
      "metadata": {
        "id": "a1AA7Hrck1kc",
        "colab_type": "code",
        "colab": {}
      },
      "source": [
        "torch.save(emb_enc,'/content/drive/My Drive/es_emb.pth')\n",
        "torch.save(emb_dec,'/content/drive/My Drive/en_emb.pth')"
      ],
      "execution_count": null,
      "outputs": []
    },
    {
      "cell_type": "code",
      "metadata": {
        "id": "f0KOOeLjpSEZ",
        "colab_type": "code",
        "colab": {}
      },
      "source": [
        "emb_enc = torch.load('/content/drive/My Drive/es_emb.pth')\n",
        "emb_dec = torch.load('/content/drive/My Drive/en_emb.pth')"
      ],
      "execution_count": 10,
      "outputs": []
    },
    {
      "cell_type": "markdown",
      "metadata": {
        "id": "46EgssKvyLmW",
        "colab_type": "text"
      },
      "source": [
        "## Model Creation"
      ]
    },
    {
      "cell_type": "markdown",
      "metadata": {
        "id": "LQtIX1JI9L-C",
        "colab_type": "text"
      },
      "source": [
        "### Seq2seq with RNN"
      ]
    },
    {
      "cell_type": "code",
      "metadata": {
        "id": "geT5EFeax7WT",
        "colab_type": "code",
        "colab": {}
      },
      "source": [
        "class Seq2SeqRNN(nn.Module):\n",
        "  def __init__(self, emb_enc, emb_dec, nh, out_sl, nl=2, bos_idx=0, pad_idx=1):\n",
        "    super().__init__()\n",
        "    self.nl, self.nh, self.out_sl = nl, nh, out_sl\n",
        "    self.bos_idx, self.pad_idx = bos_idx, pad_idx\n",
        "    self.emb_sz_enc = emb_enc.embedding_dim\n",
        "    self.emb_sz_dec = emb_dec.embedding_dim\n",
        "    self.voc_sz_dec = emb_dec.num_embeddings\n",
        "    \n",
        "    self.emb_enc = emb_enc\n",
        "    self.emb_enc_drop = nn.Dropout(0.15)\n",
        "    self.gru_enc = nn.GRU(self.emb_sz_enc, nh, num_layers=nl, dropout=0.25, batch_first=True)\n",
        "    self.out_enc = nn.Linear(nh, self.emb_sz_dec, bias=False)\n",
        "\n",
        "    self.emb_dec = emb_dec\n",
        "    self.gru_dec = nn.GRU(self.emb_sz_dec, self.emb_sz_dec, num_layers=nl, dropout=0.1, batch_first=True)\n",
        "    self.out_drop = nn.Dropout(0.35)\n",
        "    self.out = nn.Linear(self.emb_sz_dec, self.voc_sz_dec)\n",
        "    self.out.weight.data = self.emb_dec.weight.data\n",
        "\n",
        "  def initHidden(self, bs): return one_param(self).new_zeros(self.nl, bs, self.nh)\n",
        "\n",
        "  def encoder(self, bs, inp):\n",
        "    h = self.initHidden(bs)\n",
        "    emb = self.emb_enc_drop(self.emb_enc(inp))\n",
        "    _, h = self.gru_enc(emb, h)\n",
        "    h = self.out_enc(h)\n",
        "    return h\n",
        "\n",
        "  def decoder(self, dec_inp, h):\n",
        "    emb = self.emb_dec(dec_inp).unsqueeze(1)\n",
        "    outp, h = self.gru_dec(emb, h)\n",
        "    outp = self.out(self.out_drop(outp[:,0]))\n",
        "    return h, outp\n",
        "\n",
        "  def forward(self, inp):\n",
        "    bs, sl = inp.size()\n",
        "    h = self.encoder(bs, inp)\n",
        "    dec_inp = inp.new_zeros(bs).long() + self.bos_idx\n",
        "\n",
        "    res = []\n",
        "    for i in range(self.out_sl):\n",
        "      h, outp = self.decoder(dec_inp, h)\n",
        "      dec_inp = outp.max(1)[1]\n",
        "      res.append(outp)\n",
        "      if (dec_inp == self.pad_idx).all(): break\n",
        "    return torch.stack(res, dim=1)"
      ],
      "execution_count": null,
      "outputs": []
    },
    {
      "cell_type": "code",
      "metadata": {
        "id": "utTPlAQWc5rI",
        "colab_type": "code",
        "colab": {}
      },
      "source": [
        "rnn = Seq2SeqRNN(emb_enc, emb_dec, 256, 120)"
      ],
      "execution_count": null,
      "outputs": []
    },
    {
      "cell_type": "code",
      "metadata": {
        "id": "FEXfF7RE770q",
        "colab_type": "code",
        "colab": {
          "base_uri": "https://localhost:8080/",
          "height": 203
        },
        "outputId": "9e91551c-f174-4c95-ea0f-0d865e33b04f"
      },
      "source": [
        "rnn"
      ],
      "execution_count": null,
      "outputs": [
        {
          "output_type": "execute_result",
          "data": {
            "text/plain": [
              "Seq2SeqRNN(\n",
              "  (emb_enc): Embedding(5424, 300, padding_idx=1)\n",
              "  (emb_enc_drop): Dropout(p=0.15, inplace=False)\n",
              "  (gru_enc): GRU(300, 256, num_layers=2, batch_first=True, dropout=0.25)\n",
              "  (out_enc): Linear(in_features=256, out_features=300, bias=False)\n",
              "  (emb_dec): Embedding(4576, 300, padding_idx=1)\n",
              "  (gru_dec): GRU(300, 300, num_layers=2, batch_first=True, dropout=0.1)\n",
              "  (out_drop): Dropout(p=0.35, inplace=False)\n",
              "  (out): Linear(in_features=300, out_features=4576, bias=True)\n",
              ")"
            ]
          },
          "metadata": {
            "tags": []
          },
          "execution_count": 14
        }
      ]
    },
    {
      "cell_type": "code",
      "metadata": {
        "id": "RUCqn1eO5oqQ",
        "colab_type": "code",
        "colab": {}
      },
      "source": [
        "xb,yb=next(iter(data.valid_dl))"
      ],
      "execution_count": null,
      "outputs": []
    },
    {
      "cell_type": "code",
      "metadata": {
        "id": "l09oojb_8FrZ",
        "colab_type": "code",
        "colab": {}
      },
      "source": [
        "h = rnn.encoder(64, xb.cpu())"
      ],
      "execution_count": null,
      "outputs": []
    },
    {
      "cell_type": "code",
      "metadata": {
        "id": "FU8HUa6a8OsG",
        "colab_type": "code",
        "colab": {
          "base_uri": "https://localhost:8080/",
          "height": 54
        },
        "outputId": "8ebfccd1-317c-460b-9504-bcb711321031"
      },
      "source": [
        "h.size()"
      ],
      "execution_count": null,
      "outputs": [
        {
          "output_type": "execute_result",
          "data": {
            "text/plain": [
              "torch.Size([2, 64, 300])"
            ]
          },
          "metadata": {
            "tags": []
          },
          "execution_count": 18
        }
      ]
    },
    {
      "cell_type": "code",
      "metadata": {
        "id": "kbCb5PcE8QDh",
        "colab_type": "code",
        "colab": {}
      },
      "source": [
        "def seq2seqloss(out, targ, pad_idx=1):\n",
        "  bs, targ_len = targ.size()\n",
        "  _ ,out_len,vs = out.size()\n",
        "  if targ_len > out_len: out = F.pad(out, (0,0,0,targ_len-out_len,0,0), value=pad_idx)\n",
        "  if out_len > targ_len : targ = F.pad(targ, (0,out_len-targ_len,0,0), value=pad_idx)\n",
        "  return CrossEntropyFlat()(out,targ)"
      ],
      "execution_count": 20,
      "outputs": []
    },
    {
      "cell_type": "markdown",
      "metadata": {
        "id": "XD4H_oob9GHs",
        "colab_type": "text"
      },
      "source": [
        "#### Training"
      ]
    },
    {
      "cell_type": "code",
      "metadata": {
        "id": "Zi8pqHUK9D3m",
        "colab_type": "code",
        "colab": {}
      },
      "source": [
        "learn = Learner(data, rnn, loss_func=seq2seqloss)"
      ],
      "execution_count": null,
      "outputs": []
    },
    {
      "cell_type": "code",
      "metadata": {
        "id": "Qor1ComF9X_e",
        "colab_type": "code",
        "colab": {
          "base_uri": "https://localhost:8080/",
          "height": 393
        },
        "outputId": "43f2729e-344e-4686-fcdb-bd0f54b231b9"
      },
      "source": [
        "learn.lr_find()\n",
        "learn.recorder.plot()"
      ],
      "execution_count": null,
      "outputs": [
        {
          "output_type": "display_data",
          "data": {
            "text/html": [
              "\n",
              "    <div>\n",
              "        <style>\n",
              "            /* Turns off some styling */\n",
              "            progress {\n",
              "                /* gets rid of default border in Firefox and Opera. */\n",
              "                border: none;\n",
              "                /* Needs to be in here for Safari polyfill so background images work as expected. */\n",
              "                background-size: auto;\n",
              "            }\n",
              "            .progress-bar-interrupted, .progress-bar-interrupted::-webkit-progress-bar {\n",
              "                background: #F44336;\n",
              "            }\n",
              "        </style>\n",
              "      <progress value='0' class='' max='2' style='width:300px; height:20px; vertical-align: middle;'></progress>\n",
              "      0.00% [0/2 00:00<00:00]\n",
              "    </div>\n",
              "    \n",
              "<table border=\"1\" class=\"dataframe\">\n",
              "  <thead>\n",
              "    <tr style=\"text-align: left;\">\n",
              "      <th>epoch</th>\n",
              "      <th>train_loss</th>\n",
              "      <th>valid_loss</th>\n",
              "      <th>time</th>\n",
              "    </tr>\n",
              "  </thead>\n",
              "  <tbody>\n",
              "  </tbody>\n",
              "</table><p>\n",
              "\n",
              "    <div>\n",
              "        <style>\n",
              "            /* Turns off some styling */\n",
              "            progress {\n",
              "                /* gets rid of default border in Firefox and Opera. */\n",
              "                border: none;\n",
              "                /* Needs to be in here for Safari polyfill so background images work as expected. */\n",
              "                background-size: auto;\n",
              "            }\n",
              "            .progress-bar-interrupted, .progress-bar-interrupted::-webkit-progress-bar {\n",
              "                background: #F44336;\n",
              "            }\n",
              "        </style>\n",
              "      <progress value='82' class='' max='97' style='width:300px; height:20px; vertical-align: middle;'></progress>\n",
              "      84.54% [82/97 00:15<00:02 32.5394]\n",
              "    </div>\n",
              "    "
            ],
            "text/plain": [
              "<IPython.core.display.HTML object>"
            ]
          },
          "metadata": {
            "tags": []
          }
        },
        {
          "output_type": "stream",
          "text": [
            "LR Finder is complete, type {learner_name}.recorder.plot() to see the graph.\n"
          ],
          "name": "stdout"
        },
        {
          "output_type": "display_data",
          "data": {
            "image/png": "[encoded data removed]",
            "text/plain": [
              "<Figure size 432x288 with 1 Axes>"
            ]
          },
          "metadata": {
            "tags": [],
            "needs_background": "light"
          }
        }
      ]
    },
    {
      "cell_type": "code",
      "metadata": {
        "id": "bW6xpbe15pR9",
        "colab_type": "code",
        "colab": {
          "base_uri": "https://localhost:8080/",
          "height": 191
        },
        "outputId": "d62aa15c-066d-40de-d210-f8262d04ee7a"
      },
      "source": [
        "learn.fit_one_cycle(4,1e-3)"
      ],
      "execution_count": null,
      "outputs": [
        {
          "output_type": "display_data",
          "data": {
            "text/html": [
              "<table border=\"1\" class=\"dataframe\">\n",
              "  <thead>\n",
              "    <tr style=\"text-align: left;\">\n",
              "      <th>epoch</th>\n",
              "      <th>train_loss</th>\n",
              "      <th>valid_loss</th>\n",
              "      <th>time</th>\n",
              "    </tr>\n",
              "  </thead>\n",
              "  <tbody>\n",
              "    <tr>\n",
              "      <td>0</td>\n",
              "      <td>6.345390</td>\n",
              "      <td>7.230646</td>\n",
              "      <td>00:18</td>\n",
              "    </tr>\n",
              "    <tr>\n",
              "      <td>1</td>\n",
              "      <td>6.464007</td>\n",
              "      <td>7.193672</td>\n",
              "      <td>00:09</td>\n",
              "    </tr>\n",
              "    <tr>\n",
              "      <td>2</td>\n",
              "      <td>6.645487</td>\n",
              "      <td>6.934751</td>\n",
              "      <td>00:06</td>\n",
              "    </tr>\n",
              "    <tr>\n",
              "      <td>3</td>\n",
              "      <td>6.492787</td>\n",
              "      <td>6.936026</td>\n",
              "      <td>00:07</td>\n",
              "    </tr>\n",
              "  </tbody>\n",
              "</table>"
            ],
            "text/plain": [
              "<IPython.core.display.HTML object>"
            ]
          },
          "metadata": {
            "tags": []
          }
        }
      ]
    },
    {
      "cell_type": "markdown",
      "metadata": {
        "id": "eZudrbKU6ftL",
        "colab_type": "text"
      },
      "source": [
        "**Since loss is not useful to interpret what's happening we come up with an accuracy function**"
      ]
    },
    {
      "cell_type": "code",
      "metadata": {
        "id": "6QGX_aae9cwD",
        "colab_type": "code",
        "colab": {}
      },
      "source": [
        "def seq2seq_acc(out, targ, pad_idx=1):\n",
        "  bs,targ_len = targ.size()\n",
        "  _,out_len,vs = out.size()\n",
        "  if targ_len > out_len: out = F.pad(out, (0,0,0,targ_len-out_len,0,0), value=pad_idx)\n",
        "  if out_len > targ_len : targ = F.pad(targ, (0,out_len-targ_len,0,0), value=pad_idx)\n",
        "  out = out.argmax(2)\n",
        "  return (out==targ).float().mean()"
      ],
      "execution_count": 21,
      "outputs": []
    },
    {
      "cell_type": "markdown",
      "metadata": {
        "id": "F3lvejPH9jMa",
        "colab_type": "text"
      },
      "source": [
        "**Using Bleu Metric** \n",
        ">We invent our own since NLTK takes 5 hours to calculate on my model"
      ]
    },
    {
      "cell_type": "code",
      "metadata": {
        "id": "5mSG70OM8Nba",
        "colab_type": "code",
        "colab": {}
      },
      "source": [
        "class NGram():\n",
        "  def __init__(self, ngram, max_n=5000):\n",
        "    self.ngram = ngram\n",
        "    self.max_n = max_n\n",
        "\n",
        "  def __eq__(self,other):\n",
        "    if len(self.ngram) != len(other.ngram): return False\n",
        "    return np.all(np.array(self.ngram) == np.array(other.ngram))\n",
        "\n",
        "  def __hash__(self):\n",
        "    return int(sum([o * self.max_n**i for i,o in enumerate(self.ngram)]))"
      ],
      "execution_count": 22,
      "outputs": []
    },
    {
      "cell_type": "code",
      "metadata": {
        "id": "6d6IHD_B_Rvz",
        "colab_type": "code",
        "colab": {}
      },
      "source": [
        "def get_grams(x, n, max_n=5000):\n",
        "  return x if n==1 else [NGram(x[i:i+n], max_n=max_n) for i in range(len(x)-n+1)]"
      ],
      "execution_count": 23,
      "outputs": []
    },
    {
      "cell_type": "code",
      "metadata": {
        "id": "zb63ze0A_t9S",
        "colab_type": "code",
        "colab": {}
      },
      "source": [
        "def get_correct_ngrams(pred, targ, n, max_n=5000):\n",
        "    pred_grams,targ_grams = get_grams(pred, n, max_n=max_n),get_grams(targ, n, max_n=max_n)\n",
        "    pred_cnt,targ_cnt = Counter(pred_grams),Counter(targ_grams)\n",
        "    return sum([min(c, targ_cnt[g]) for g,c in pred_cnt.items()]),len(pred_grams)"
      ],
      "execution_count": 24,
      "outputs": []
    },
    {
      "cell_type": "markdown",
      "metadata": {
        "id": "2_7UK2QmBDMV",
        "colab_type": "text"
      },
      "source": [
        ">We create a callback for calculating the Bleu score on a corpus which is basically:\n",
        "\n",
        ">score = penalty * ((a * b * c * d)  ** 0.25)"
      ]
    },
    {
      "cell_type": "code",
      "metadata": {
        "id": "h1WHbn_DBC2O",
        "colab_type": "code",
        "colab": {}
      },
      "source": [
        "class CorpusBleu(Callback):\n",
        "  def __init__(self, vocab_sz):\n",
        "    self.vocab_sz = vocab_sz\n",
        "    self.name = 'bleu'\n",
        "  \n",
        "  def on_epoch_begin(self, **kwargs):\n",
        "    self.pred_len, self.targ_len, self.corrects, self.counts = 0, 0, [0]*4, [0]*4\n",
        "  \n",
        "  def on_batch_end(self, last_output, last_target, **kwargs):\n",
        "    last_output = last_output.argmax(dim=-1)\n",
        "    for pred, targ in zip(last_output.cpu().numpy(), last_target.cpu().numpy()):\n",
        "      self.pred_len += len(pred)\n",
        "      self.targ_len += len(targ)\n",
        "      for i in range(4):     # Get max quad grams (or whatever they call ngrams of length 4)\n",
        "        c,t = get_correct_ngrams(pred, targ, i+1, max_n=self.vocab_sz)\n",
        "        self.corrects[i] += c\n",
        "        self.counts[i] += t\n",
        "\n",
        "  def on_epoch_end(self, last_metrics, **kwargs):\n",
        "    precs = [c/t for c,t in zip(self.corrects, self.counts)]\n",
        "    len_penalty = exp(1 - self.targ_len/self.pred_len) if self.pred_len < self.targ_len else 1\n",
        "    bleu = len_penalty * ((precs[0]*precs[1]*precs[2]*precs[3]) ** 0.25)\n",
        "    return add_metrics(last_metrics, bleu)"
      ],
      "execution_count": 25,
      "outputs": []
    },
    {
      "cell_type": "markdown",
      "metadata": {
        "id": "ylYhuYO1Epve",
        "colab_type": "text"
      },
      "source": [
        "**Training with metrics now**"
      ]
    },
    {
      "cell_type": "code",
      "metadata": {
        "id": "2I2AoRof_71J",
        "colab_type": "code",
        "colab": {}
      },
      "source": [
        "learn = Learner(data, rnn, loss_func=seq2seqloss, metrics=[seq2seq_acc, CorpusBleu(len(data.y.vocab.itos))])"
      ],
      "execution_count": null,
      "outputs": []
    },
    {
      "cell_type": "code",
      "metadata": {
        "id": "VQpGJIBDFOZ9",
        "colab_type": "code",
        "colab": {
          "base_uri": "https://localhost:8080/",
          "height": 393
        },
        "outputId": "4593aae7-0714-42ed-b21c-ff0a79d6e28c"
      },
      "source": [
        "learn.lr_find()\n",
        "learn.recorder.plot()"
      ],
      "execution_count": null,
      "outputs": [
        {
          "output_type": "display_data",
          "data": {
            "text/html": [
              "\n",
              "    <div>\n",
              "        <style>\n",
              "            /* Turns off some styling */\n",
              "            progress {\n",
              "                /* gets rid of default border in Firefox and Opera. */\n",
              "                border: none;\n",
              "                /* Needs to be in here for Safari polyfill so background images work as expected. */\n",
              "                background-size: auto;\n",
              "            }\n",
              "            .progress-bar-interrupted, .progress-bar-interrupted::-webkit-progress-bar {\n",
              "                background: #F44336;\n",
              "            }\n",
              "        </style>\n",
              "      <progress value='0' class='' max='2' style='width:300px; height:20px; vertical-align: middle;'></progress>\n",
              "      0.00% [0/2 00:00<00:00]\n",
              "    </div>\n",
              "    \n",
              "<table border=\"1\" class=\"dataframe\">\n",
              "  <thead>\n",
              "    <tr style=\"text-align: left;\">\n",
              "      <th>epoch</th>\n",
              "      <th>train_loss</th>\n",
              "      <th>valid_loss</th>\n",
              "      <th>seq2seq_acc</th>\n",
              "      <th>bleu</th>\n",
              "      <th>time</th>\n",
              "    </tr>\n",
              "  </thead>\n",
              "  <tbody>\n",
              "  </tbody>\n",
              "</table><p>\n",
              "\n",
              "    <div>\n",
              "        <style>\n",
              "            /* Turns off some styling */\n",
              "            progress {\n",
              "                /* gets rid of default border in Firefox and Opera. */\n",
              "                border: none;\n",
              "                /* Needs to be in here for Safari polyfill so background images work as expected. */\n",
              "                background-size: auto;\n",
              "            }\n",
              "            .progress-bar-interrupted, .progress-bar-interrupted::-webkit-progress-bar {\n",
              "                background: #F44336;\n",
              "            }\n",
              "        </style>\n",
              "      <progress value='83' class='' max='97' style='width:300px; height:20px; vertical-align: middle;'></progress>\n",
              "      85.57% [83/97 00:06<00:01 19.6272]\n",
              "    </div>\n",
              "    "
            ],
            "text/plain": [
              "<IPython.core.display.HTML object>"
            ]
          },
          "metadata": {
            "tags": []
          }
        },
        {
          "output_type": "stream",
          "text": [
            "LR Finder is complete, type {learner_name}.recorder.plot() to see the graph.\n"
          ],
          "name": "stdout"
        },
        {
          "output_type": "display_data",
          "data": {
            "image/png": "[encoded data removed]",
            "text/plain": [
              "<Figure size 432x288 with 1 Axes>"
            ]
          },
          "metadata": {
            "tags": [],
            "needs_background": "light"
          }
        }
      ]
    },
    {
      "cell_type": "code",
      "metadata": {
        "id": "x2m2yxXbFSnB",
        "colab_type": "code",
        "colab": {
          "base_uri": "https://localhost:8080/",
          "height": 191
        },
        "outputId": "cd80b0be-e543-4dc8-da28-3e2772ba5ff4"
      },
      "source": [
        "learn.fit_one_cycle(4, 1e-3)"
      ],
      "execution_count": null,
      "outputs": [
        {
          "output_type": "display_data",
          "data": {
            "text/html": [
              "<table border=\"1\" class=\"dataframe\">\n",
              "  <thead>\n",
              "    <tr style=\"text-align: left;\">\n",
              "      <th>epoch</th>\n",
              "      <th>train_loss</th>\n",
              "      <th>valid_loss</th>\n",
              "      <th>seq2seq_acc</th>\n",
              "      <th>bleu</th>\n",
              "      <th>time</th>\n",
              "    </tr>\n",
              "  </thead>\n",
              "  <tbody>\n",
              "    <tr>\n",
              "      <td>0</td>\n",
              "      <td>5.955884</td>\n",
              "      <td>3.677555</td>\n",
              "      <td>0.313295</td>\n",
              "      <td>0.066538</td>\n",
              "      <td>00:19</td>\n",
              "    </tr>\n",
              "    <tr>\n",
              "      <td>1</td>\n",
              "      <td>4.915508</td>\n",
              "      <td>3.352515</td>\n",
              "      <td>0.408228</td>\n",
              "      <td>0.066251</td>\n",
              "      <td>00:21</td>\n",
              "    </tr>\n",
              "    <tr>\n",
              "      <td>2</td>\n",
              "      <td>4.357631</td>\n",
              "      <td>3.619857</td>\n",
              "      <td>0.357838</td>\n",
              "      <td>0.054041</td>\n",
              "      <td>00:22</td>\n",
              "    </tr>\n",
              "    <tr>\n",
              "      <td>3</td>\n",
              "      <td>4.222044</td>\n",
              "      <td>3.472065</td>\n",
              "      <td>0.399986</td>\n",
              "      <td>0.061025</td>\n",
              "      <td>00:22</td>\n",
              "    </tr>\n",
              "  </tbody>\n",
              "</table>"
            ],
            "text/plain": [
              "<IPython.core.display.HTML object>"
            ]
          },
          "metadata": {
            "tags": []
          }
        }
      ]
    },
    {
      "cell_type": "markdown",
      "metadata": {
        "id": "o9OBsGC2H837",
        "colab_type": "text"
      },
      "source": [
        "> Checking predictions with greedy method here"
      ]
    },
    {
      "cell_type": "code",
      "metadata": {
        "id": "zypnGu5WGhbk",
        "colab_type": "code",
        "colab": {}
      },
      "source": [
        "def get_predictions(learn, ds_type=DatasetType.Valid):\n",
        "  learn.model.eval()\n",
        "  inputs, targets, outputs = [],[],[]\n",
        "  with torch.no_grad():\n",
        "    for xb,yb in progress_bar(learn.dl(ds_type)):\n",
        "      out = learn.model(xb)\n",
        "      for x,y,z in zip(xb,yb,out):\n",
        "        x, y, z = x.cpu(), y.cpu(), z.cpu()\n",
        "        inputs.append(learn.data.train_ds.x.vocab.textify(x))\n",
        "        targets.append(learn.data.train_ds.y.vocab.textify(y))\n",
        "        outputs.append(learn.data.train_ds.y.vocab.textify(z.argmax(1)))\n",
        "  return inputs, outputs, targets"
      ],
      "execution_count": 26,
      "outputs": []
    },
    {
      "cell_type": "code",
      "metadata": {
        "id": "CInIUPiTQ_Xj",
        "colab_type": "code",
        "colab": {
          "base_uri": "https://localhost:8080/",
          "height": 58
        },
        "outputId": "757a363e-e6fc-4b31-cc5a-374b2b7ff2bf"
      },
      "source": [
        "inputs, outputs, targets = get_predictions(learn)"
      ],
      "execution_count": null,
      "outputs": [
        {
          "output_type": "display_data",
          "data": {
            "text/html": [
              "\n",
              "    <div>\n",
              "        <style>\n",
              "            /* Turns off some styling */\n",
              "            progress {\n",
              "                /* gets rid of default border in Firefox and Opera. */\n",
              "                border: none;\n",
              "                /* Needs to be in here for Safari polyfill so background images work as expected. */\n",
              "                background-size: auto;\n",
              "            }\n",
              "            .progress-bar-interrupted, .progress-bar-interrupted::-webkit-progress-bar {\n",
              "                background: #F44336;\n",
              "            }\n",
              "        </style>\n",
              "      <progress value='25' class='' max='25' style='width:300px; height:20px; vertical-align: middle;'></progress>\n",
              "      100.00% [25/25 00:04<00:00]\n",
              "    </div>\n",
              "    "
            ],
            "text/plain": [
              "<IPython.core.display.HTML object>"
            ]
          },
          "metadata": {
            "tags": []
          }
        }
      ]
    },
    {
      "cell_type": "code",
      "metadata": {
        "id": "YK_QFNlaO1j8",
        "colab_type": "code",
        "colab": {
          "base_uri": "https://localhost:8080/",
          "height": 54
        },
        "outputId": "98409f11-4e5a-4b2d-f026-662cf64f2df2"
      },
      "source": [
        "inputs[0]"
      ],
      "execution_count": null,
      "outputs": [
        {
          "output_type": "execute_result",
          "data": {
            "text/plain": [
              "'xxbos 4 . exhorta a todos los gobiernos y a las partes en situaciones complejas de emergencia humanitaria , en particular en los conflictos armados y en las situaciones posteriores a éstos , en los países donde xxunk actividades el personal de asistencia humanitaria a que , de conformidad con las disposiciones pertinentes del derecho internacional y de la legislación nacional , cooperen plenamente con las naciones unidas y otros organismos y organizaciones humanitarios y garanticen el libre acceso , en condiciones de seguridad , del personal de asistencia humanitaria para que éste pueda desempeñar con eficacia su tarea de ayudar a la población civil afectada , incluidos los refugiados y los desplazados en el interior de su país ;'"
            ]
          },
          "metadata": {
            "tags": []
          },
          "execution_count": 96
        }
      ]
    },
    {
      "cell_type": "code",
      "metadata": {
        "id": "Ss8Fj9o1QHmS",
        "colab_type": "code",
        "colab": {
          "base_uri": "https://localhost:8080/",
          "height": 54
        },
        "outputId": "34296b5b-b55e-44e9-b884-4d3b9afff8b1"
      },
      "source": [
        "targets[0]"
      ],
      "execution_count": null,
      "outputs": [
        {
          "output_type": "execute_result",
          "data": {
            "text/plain": [
              "'xxbos 4 . calls upon all governments and parties in complex humanitarian emergencies , in particular in armed conflicts and in post - conflict situations , in countries in which humanitarian personnel are operating , in conformity with the relevant provisions of international law and national laws , to cooperate fully with the united nations and other humanitarian agencies and organizations and to ensure the safe and unhindered access of humanitarian personnel in order to allow them to xxunk efficiently their task of assisting the affected civilian population , including refugees and internally displaced persons ; xxpad xxpad xxpad xxpad xxpad xxpad xxpad xxpad xxpad xxpad xxpad xxpad xxpad xxpad xxpad xxpad xxpad'"
            ]
          },
          "metadata": {
            "tags": []
          },
          "execution_count": 97
        }
      ]
    },
    {
      "cell_type": "code",
      "metadata": {
        "id": "0gJfpoWrQTwl",
        "colab_type": "code",
        "colab": {
          "base_uri": "https://localhost:8080/",
          "height": 54
        },
        "outputId": "8f288411-b080-4714-8526-8ddf5a79dcb0"
      },
      "source": [
        "outputs[0]"
      ],
      "execution_count": null,
      "outputs": [
        {
          "output_type": "execute_result",
          "data": {
            "text/plain": [
              "'xxbos 1 . requests the the the the the the the the the the the the the the the the the the the the the the the the the the the the the the the the the the the the the the the the the the the the the the the the the the the the the the the the the the the the the the the the the the the the the the the the the the the the the the the the the the the the the the the the the the the the the the the the the the the the the the the the the the the the the the the the the the the the'"
            ]
          },
          "metadata": {
            "tags": []
          },
          "execution_count": 100
        }
      ]
    },
    {
      "cell_type": "markdown",
      "metadata": {
        "id": "qxukrlXqRVOh",
        "colab_type": "text"
      },
      "source": [
        "As we see, greedy method sucks and so does our model accuracy. (atleast it predicts the '.' correctly)"
      ]
    },
    {
      "cell_type": "markdown",
      "metadata": {
        "id": "uHa6KEtfTcbn",
        "colab_type": "text"
      },
      "source": [
        "### *+Teacher Forcing*"
      ]
    },
    {
      "cell_type": "markdown",
      "metadata": {
        "id": "KiKcwj6hSMfE",
        "colab_type": "text"
      },
      "source": [
        "To solve this ambuguity we'll be using Teacher Forcing, which feeds the real outputs to the decoder in the inital epochs instead of the predictions"
      ]
    },
    {
      "cell_type": "code",
      "metadata": {
        "id": "HZaLiT6-QlP9",
        "colab_type": "code",
        "colab": {}
      },
      "source": [
        "class TeacherForcing(LearnerCallback):\n",
        "  def __init__(self, learn, end_epoch):\n",
        "    super().__init__(learn)\n",
        "    self.end_epoch = end_epoch\n",
        "\n",
        "  def on_batch_begin(self, last_input, last_target, train, **kwargs):\n",
        "    if train: return {'last_input': [last_input, last_target]}\n",
        "\n",
        "  def on_epoch_begin(self, epoch, **kwargs):\n",
        "    self.learn.model.pr_force = 1 - epoch/self.end_epoch"
      ],
      "execution_count": 27,
      "outputs": []
    },
    {
      "cell_type": "code",
      "metadata": {
        "id": "ramU3m6UVVQZ",
        "colab_type": "code",
        "colab": {}
      },
      "source": [
        "class Seq2SeqRNN_tf(nn.Module):\n",
        "  def __init__(self, emb_enc, emb_dec, nh, out_sl, nl=2, bos_idx=0, pad_idx=1):\n",
        "    super().__init__()\n",
        "    self.nl, self.nh, self.out_sl = nl, nh, out_sl\n",
        "    self.bos_idx, self.pad_idx = bos_idx, pad_idx\n",
        "    self.emb_sz_enc = emb_enc.embedding_dim\n",
        "    self.emb_sz_dec = emb_dec.embedding_dim\n",
        "    self.voc_sz_dec = emb_dec.num_embeddings\n",
        "    \n",
        "    self.emb_enc = emb_enc\n",
        "    self.emb_enc_drop = nn.Dropout(0.15)\n",
        "    self.gru_enc = nn.GRU(self.emb_sz_enc, nh, num_layers=nl, dropout=0.25, batch_first=True)\n",
        "    self.out_enc = nn.Linear(nh, self.emb_sz_dec, bias=False)\n",
        "\n",
        "    self.emb_dec = emb_dec\n",
        "    self.gru_dec = nn.GRU(self.emb_sz_dec, self.emb_sz_dec, num_layers=nl, dropout=0.1, batch_first=True)\n",
        "    self.out_drop = nn.Dropout(0.35)\n",
        "    self.out = nn.Linear(self.emb_sz_dec, self.voc_sz_dec)\n",
        "    self.out.weight.data = self.emb_dec.weight.data\n",
        "\n",
        "  def initHidden(self, bs): return one_param(self).new_zeros(self.nl, bs, self.nh)\n",
        "\n",
        "  def encoder(self, bs, inp):\n",
        "    h = self.initHidden(bs)\n",
        "    emb = self.emb_enc_drop(self.emb_enc(inp))\n",
        "    _, h = self.gru_enc(emb, h)\n",
        "    h = self.out_enc(h)\n",
        "    return h\n",
        "\n",
        "  def decoder(self, dec_inp, h):\n",
        "    emb = self.emb_dec(dec_inp).unsqueeze(1)\n",
        "    outp, h = self.gru_dec(emb, h)\n",
        "    outp = self.out(self.out_drop(outp[:,0]))\n",
        "    return h, outp\n",
        "\n",
        "  def forward(self, inp, targ=None):\n",
        "    bs, sl = inp.size()\n",
        "    h = self.encoder(bs, inp)\n",
        "    dec_inp = inp.new_zeros(bs).long() + self.bos_idx\n",
        "    res = []\n",
        "    for i in range(self.out_sl):\n",
        "      h, outp = self.decoder(dec_inp, h)\n",
        "      res.append(outp)\n",
        "      dec_inp = outp.max(1)[1]\n",
        "      if (dec_inp == self.pad_idx).all(): break\n",
        "      if (targ is not None) and (random.random()<self.pr_force):\n",
        "        if i>=targ.shape[1]:continue\n",
        "        dec_inp = targ[:,i]\n",
        "\n",
        "    return torch.stack(res, dim=1)"
      ],
      "execution_count": null,
      "outputs": []
    },
    {
      "cell_type": "code",
      "metadata": {
        "id": "Nfo6o4z-WLr_",
        "colab_type": "code",
        "colab": {}
      },
      "source": [
        "rnn_tf = Seq2SeqRNN_tf(emb_enc, emb_dec, 256, 120)\n",
        "\n",
        "tf_learn = Learner(data, rnn_tf, loss_func=seq2seqloss, metrics=[seq2seq_acc, CorpusBleu(len(data.y.vocab.itos))],\n",
        "                   callback_fns=partial(TeacherForcing, end_epoch = 3))"
      ],
      "execution_count": null,
      "outputs": []
    },
    {
      "cell_type": "code",
      "metadata": {
        "id": "h4EyT_b-Wfw8",
        "colab_type": "code",
        "colab": {
          "base_uri": "https://localhost:8080/",
          "height": 393
        },
        "outputId": "69ddcc74-19c7-4de9-a2e8-d6726d41ab98"
      },
      "source": [
        "tf_learn.lr_find()\n",
        "tf_learn.recorder.plot()"
      ],
      "execution_count": null,
      "outputs": [
        {
          "output_type": "display_data",
          "data": {
            "text/html": [
              "\n",
              "    <div>\n",
              "        <style>\n",
              "            /* Turns off some styling */\n",
              "            progress {\n",
              "                /* gets rid of default border in Firefox and Opera. */\n",
              "                border: none;\n",
              "                /* Needs to be in here for Safari polyfill so background images work as expected. */\n",
              "                background-size: auto;\n",
              "            }\n",
              "            .progress-bar-interrupted, .progress-bar-interrupted::-webkit-progress-bar {\n",
              "                background: #F44336;\n",
              "            }\n",
              "        </style>\n",
              "      <progress value='0' class='' max='2' style='width:300px; height:20px; vertical-align: middle;'></progress>\n",
              "      0.00% [0/2 00:00<00:00]\n",
              "    </div>\n",
              "    \n",
              "<table border=\"1\" class=\"dataframe\">\n",
              "  <thead>\n",
              "    <tr style=\"text-align: left;\">\n",
              "      <th>epoch</th>\n",
              "      <th>train_loss</th>\n",
              "      <th>valid_loss</th>\n",
              "      <th>seq2seq_acc</th>\n",
              "      <th>bleu</th>\n",
              "      <th>time</th>\n",
              "    </tr>\n",
              "  </thead>\n",
              "  <tbody>\n",
              "  </tbody>\n",
              "</table><p>\n",
              "\n",
              "    <div>\n",
              "        <style>\n",
              "            /* Turns off some styling */\n",
              "            progress {\n",
              "                /* gets rid of default border in Firefox and Opera. */\n",
              "                border: none;\n",
              "                /* Needs to be in here for Safari polyfill so background images work as expected. */\n",
              "                background-size: auto;\n",
              "            }\n",
              "            .progress-bar-interrupted, .progress-bar-interrupted::-webkit-progress-bar {\n",
              "                background: #F44336;\n",
              "            }\n",
              "        </style>\n",
              "      <progress value='81' class='' max='97' style='width:300px; height:20px; vertical-align: middle;'></progress>\n",
              "      83.51% [81/97 00:14<00:02 27.3147]\n",
              "    </div>\n",
              "    "
            ],
            "text/plain": [
              "<IPython.core.display.HTML object>"
            ]
          },
          "metadata": {
            "tags": []
          }
        },
        {
          "output_type": "stream",
          "text": [
            "LR Finder is complete, type {learner_name}.recorder.plot() to see the graph.\n"
          ],
          "name": "stdout"
        },
        {
          "output_type": "display_data",
          "data": {
            "image/png": "[encoded data removed]",
            "text/plain": [
              "<Figure size 432x288 with 1 Axes>"
            ]
          },
          "metadata": {
            "tags": [],
            "needs_background": "light"
          }
        }
      ]
    },
    {
      "cell_type": "code",
      "metadata": {
        "id": "D3KD8OoaXDOO",
        "colab_type": "code",
        "colab": {
          "base_uri": "https://localhost:8080/",
          "height": 252
        },
        "outputId": "9c142420-9802-4c07-ab84-9b1d59b32145"
      },
      "source": [
        "tf_learn.fit_one_cycle(6, 1e-3)"
      ],
      "execution_count": null,
      "outputs": [
        {
          "output_type": "display_data",
          "data": {
            "text/html": [
              "<table border=\"1\" class=\"dataframe\">\n",
              "  <thead>\n",
              "    <tr style=\"text-align: left;\">\n",
              "      <th>epoch</th>\n",
              "      <th>train_loss</th>\n",
              "      <th>valid_loss</th>\n",
              "      <th>seq2seq_acc</th>\n",
              "      <th>bleu</th>\n",
              "      <th>time</th>\n",
              "    </tr>\n",
              "  </thead>\n",
              "  <tbody>\n",
              "    <tr>\n",
              "      <td>0</td>\n",
              "      <td>7.396241</td>\n",
              "      <td>6.278553</td>\n",
              "      <td>0.037397</td>\n",
              "      <td>0.000000</td>\n",
              "      <td>00:29</td>\n",
              "    </tr>\n",
              "    <tr>\n",
              "      <td>1</td>\n",
              "      <td>3.945722</td>\n",
              "      <td>3.903654</td>\n",
              "      <td>0.161615</td>\n",
              "      <td>0.030844</td>\n",
              "      <td>00:26</td>\n",
              "    </tr>\n",
              "    <tr>\n",
              "      <td>2</td>\n",
              "      <td>3.608405</td>\n",
              "      <td>4.028789</td>\n",
              "      <td>0.088401</td>\n",
              "      <td>0.016254</td>\n",
              "      <td>00:24</td>\n",
              "    </tr>\n",
              "    <tr>\n",
              "      <td>3</td>\n",
              "      <td>6.086068</td>\n",
              "      <td>5.441931</td>\n",
              "      <td>0.181560</td>\n",
              "      <td>0.083698</td>\n",
              "      <td>00:12</td>\n",
              "    </tr>\n",
              "    <tr>\n",
              "      <td>4</td>\n",
              "      <td>6.121037</td>\n",
              "      <td>6.266303</td>\n",
              "      <td>0.130876</td>\n",
              "      <td>0.068657</td>\n",
              "      <td>00:11</td>\n",
              "    </tr>\n",
              "    <tr>\n",
              "      <td>5</td>\n",
              "      <td>5.735729</td>\n",
              "      <td>5.479828</td>\n",
              "      <td>0.197839</td>\n",
              "      <td>0.102935</td>\n",
              "      <td>00:13</td>\n",
              "    </tr>\n",
              "  </tbody>\n",
              "</table>"
            ],
            "text/plain": [
              "<IPython.core.display.HTML object>"
            ]
          },
          "metadata": {
            "tags": []
          }
        }
      ]
    },
    {
      "cell_type": "code",
      "metadata": {
        "id": "oKrQyXWhYv6J",
        "colab_type": "code",
        "colab": {
          "base_uri": "https://localhost:8080/",
          "height": 393
        },
        "outputId": "d1f70b76-61b2-4745-b6e7-cd2075be33de"
      },
      "source": [
        "tf_learn.lr_find()\n",
        "tf_learn.recorder.plot()"
      ],
      "execution_count": null,
      "outputs": [
        {
          "output_type": "display_data",
          "data": {
            "text/html": [
              "\n",
              "    <div>\n",
              "        <style>\n",
              "            /* Turns off some styling */\n",
              "            progress {\n",
              "                /* gets rid of default border in Firefox and Opera. */\n",
              "                border: none;\n",
              "                /* Needs to be in here for Safari polyfill so background images work as expected. */\n",
              "                background-size: auto;\n",
              "            }\n",
              "            .progress-bar-interrupted, .progress-bar-interrupted::-webkit-progress-bar {\n",
              "                background: #F44336;\n",
              "            }\n",
              "        </style>\n",
              "      <progress value='0' class='' max='2' style='width:300px; height:20px; vertical-align: middle;'></progress>\n",
              "      0.00% [0/2 00:00<00:00]\n",
              "    </div>\n",
              "    \n",
              "<table border=\"1\" class=\"dataframe\">\n",
              "  <thead>\n",
              "    <tr style=\"text-align: left;\">\n",
              "      <th>epoch</th>\n",
              "      <th>train_loss</th>\n",
              "      <th>valid_loss</th>\n",
              "      <th>seq2seq_acc</th>\n",
              "      <th>bleu</th>\n",
              "      <th>time</th>\n",
              "    </tr>\n",
              "  </thead>\n",
              "  <tbody>\n",
              "  </tbody>\n",
              "</table><p>\n",
              "\n",
              "    <div>\n",
              "        <style>\n",
              "            /* Turns off some styling */\n",
              "            progress {\n",
              "                /* gets rid of default border in Firefox and Opera. */\n",
              "                border: none;\n",
              "                /* Needs to be in here for Safari polyfill so background images work as expected. */\n",
              "                background-size: auto;\n",
              "            }\n",
              "            .progress-bar-interrupted, .progress-bar-interrupted::-webkit-progress-bar {\n",
              "                background: #F44336;\n",
              "            }\n",
              "        </style>\n",
              "      <progress value='84' class='' max='97' style='width:300px; height:20px; vertical-align: middle;'></progress>\n",
              "      86.60% [84/97 00:10<00:01 12.1982]\n",
              "    </div>\n",
              "    "
            ],
            "text/plain": [
              "<IPython.core.display.HTML object>"
            ]
          },
          "metadata": {
            "tags": []
          }
        },
        {
          "output_type": "stream",
          "text": [
            "LR Finder is complete, type {learner_name}.recorder.plot() to see the graph.\n"
          ],
          "name": "stdout"
        },
        {
          "output_type": "display_data",
          "data": {
            "image/png": "[encoded data removed]",
            "text/plain": [
              "<Figure size 432x288 with 1 Axes>"
            ]
          },
          "metadata": {
            "tags": [],
            "needs_background": "light"
          }
        }
      ]
    },
    {
      "cell_type": "code",
      "metadata": {
        "id": "bDXCVgr8Y1hF",
        "colab_type": "code",
        "colab": {
          "base_uri": "https://localhost:8080/",
          "height": 252
        },
        "outputId": "37161641-8033-4ce5-bb83-72ec548affb5"
      },
      "source": [
        "tf_learn.fit_one_cycle(6, 2e-3)"
      ],
      "execution_count": null,
      "outputs": [
        {
          "output_type": "display_data",
          "data": {
            "text/html": [
              "<table border=\"1\" class=\"dataframe\">\n",
              "  <thead>\n",
              "    <tr style=\"text-align: left;\">\n",
              "      <th>epoch</th>\n",
              "      <th>train_loss</th>\n",
              "      <th>valid_loss</th>\n",
              "      <th>seq2seq_acc</th>\n",
              "      <th>bleu</th>\n",
              "      <th>time</th>\n",
              "    </tr>\n",
              "  </thead>\n",
              "  <tbody>\n",
              "    <tr>\n",
              "      <td>0</td>\n",
              "      <td>3.042377</td>\n",
              "      <td>5.048729</td>\n",
              "      <td>0.252928</td>\n",
              "      <td>0.065551</td>\n",
              "      <td>00:23</td>\n",
              "    </tr>\n",
              "    <tr>\n",
              "      <td>1</td>\n",
              "      <td>2.909665</td>\n",
              "      <td>5.889709</td>\n",
              "      <td>0.202580</td>\n",
              "      <td>0.171912</td>\n",
              "      <td>00:17</td>\n",
              "    </tr>\n",
              "    <tr>\n",
              "      <td>2</td>\n",
              "      <td>3.409511</td>\n",
              "      <td>3.988669</td>\n",
              "      <td>0.347046</td>\n",
              "      <td>0.173566</td>\n",
              "      <td>00:18</td>\n",
              "    </tr>\n",
              "    <tr>\n",
              "      <td>3</td>\n",
              "      <td>5.091806</td>\n",
              "      <td>5.733521</td>\n",
              "      <td>0.171049</td>\n",
              "      <td>0.160508</td>\n",
              "      <td>00:13</td>\n",
              "    </tr>\n",
              "    <tr>\n",
              "      <td>4</td>\n",
              "      <td>4.344944</td>\n",
              "      <td>4.687820</td>\n",
              "      <td>0.278746</td>\n",
              "      <td>0.206522</td>\n",
              "      <td>00:15</td>\n",
              "    </tr>\n",
              "    <tr>\n",
              "      <td>5</td>\n",
              "      <td>4.030360</td>\n",
              "      <td>4.536533</td>\n",
              "      <td>0.299838</td>\n",
              "      <td>0.210434</td>\n",
              "      <td>00:16</td>\n",
              "    </tr>\n",
              "  </tbody>\n",
              "</table>"
            ],
            "text/plain": [
              "<IPython.core.display.HTML object>"
            ]
          },
          "metadata": {
            "tags": []
          }
        }
      ]
    },
    {
      "cell_type": "code",
      "metadata": {
        "id": "qSDj2yglXu6S",
        "colab_type": "code",
        "colab": {
          "base_uri": "https://localhost:8080/",
          "height": 58
        },
        "outputId": "a89ad64c-2c71-4ad6-b98b-2c00bb02ff5c"
      },
      "source": [
        "inputs, outputs, targets = get_predictions(tf_learn)"
      ],
      "execution_count": null,
      "outputs": [
        {
          "output_type": "display_data",
          "data": {
            "text/html": [
              "\n",
              "    <div>\n",
              "        <style>\n",
              "            /* Turns off some styling */\n",
              "            progress {\n",
              "                /* gets rid of default border in Firefox and Opera. */\n",
              "                border: none;\n",
              "                /* Needs to be in here for Safari polyfill so background images work as expected. */\n",
              "                background-size: auto;\n",
              "            }\n",
              "            .progress-bar-interrupted, .progress-bar-interrupted::-webkit-progress-bar {\n",
              "                background: #F44336;\n",
              "            }\n",
              "        </style>\n",
              "      <progress value='25' class='' max='25' style='width:300px; height:20px; vertical-align: middle;'></progress>\n",
              "      100.00% [25/25 00:02<00:00]\n",
              "    </div>\n",
              "    "
            ],
            "text/plain": [
              "<IPython.core.display.HTML object>"
            ]
          },
          "metadata": {
            "tags": []
          }
        }
      ]
    },
    {
      "cell_type": "code",
      "metadata": {
        "id": "CpYispP1YWdL",
        "colab_type": "code",
        "colab": {
          "base_uri": "https://localhost:8080/",
          "height": 54
        },
        "outputId": "080c3b53-069d-45df-de3a-ee95c45d62b4"
      },
      "source": [
        "inputs[0]"
      ],
      "execution_count": null,
      "outputs": [
        {
          "output_type": "execute_result",
          "data": {
            "text/plain": [
              "'xxbos 4 . exhorta a todos los gobiernos y a las partes en situaciones complejas de emergencia humanitaria , en particular en los conflictos armados y en las situaciones posteriores a éstos , en los países donde xxunk actividades el personal de asistencia humanitaria a que , de conformidad con las disposiciones pertinentes del derecho internacional y de la legislación nacional , cooperen plenamente con las naciones unidas y otros organismos y organizaciones humanitarios y garanticen el libre acceso , en condiciones de seguridad , del personal de asistencia humanitaria para que éste pueda desempeñar con eficacia su tarea de ayudar a la población civil afectada , incluidos los refugiados y los desplazados en el interior de su país ;'"
            ]
          },
          "metadata": {
            "tags": []
          },
          "execution_count": 128
        }
      ]
    },
    {
      "cell_type": "code",
      "metadata": {
        "id": "Op5XqCaxYXyF",
        "colab_type": "code",
        "colab": {
          "base_uri": "https://localhost:8080/",
          "height": 54
        },
        "outputId": "f1f2ad57-b53e-4329-df43-49f128a1ac59"
      },
      "source": [
        "targets[0]"
      ],
      "execution_count": null,
      "outputs": [
        {
          "output_type": "execute_result",
          "data": {
            "text/plain": [
              "'xxbos 4 . calls upon all governments and parties in complex humanitarian emergencies , in particular in armed conflicts and in post - conflict situations , in countries in which humanitarian personnel are operating , in conformity with the relevant provisions of international law and national laws , to cooperate fully with the united nations and other humanitarian agencies and organizations and to ensure the safe and unhindered access of humanitarian personnel in order to allow them to xxunk efficiently their task of assisting the affected civilian population , including refugees and internally displaced persons ; xxpad xxpad xxpad xxpad xxpad xxpad xxpad xxpad xxpad xxpad xxpad xxpad xxpad xxpad xxpad xxpad xxpad'"
            ]
          },
          "metadata": {
            "tags": []
          },
          "execution_count": 129
        }
      ]
    },
    {
      "cell_type": "code",
      "metadata": {
        "id": "iteg5dBdYanP",
        "colab_type": "code",
        "colab": {
          "base_uri": "https://localhost:8080/",
          "height": 54
        },
        "outputId": "1439fd5f-1a2e-4696-8389-f88ce96bbf8c"
      },
      "source": [
        "outputs[0]"
      ],
      "execution_count": null,
      "outputs": [
        {
          "output_type": "execute_result",
          "data": {
            "text/plain": [
              "'xxbos 4 . calls upon states states to , and and and , and , and , and and , and , and and , and , and and , and , and and , and and , and and , the the the the and and and the the the the the the the the and and and the the the the the the the the the the the the the the the the the the the xxpad xxpad xxpad xxpad xxpad xxpad xxpad xxpad xxpad xxpad xxpad xxpad xxpad xxpad xxpad xxpad xxpad xxpad xxpad xxpad'"
            ]
          },
          "metadata": {
            "tags": []
          },
          "execution_count": 130
        }
      ]
    },
    {
      "cell_type": "markdown",
      "metadata": {
        "id": "reqRmCSjZfBH",
        "colab_type": "text"
      },
      "source": [
        "A bit better :P"
      ]
    },
    {
      "cell_type": "markdown",
      "metadata": {
        "id": "Ay0BD9Nv-04q",
        "colab_type": "text"
      },
      "source": [
        "### *+Attention*"
      ]
    },
    {
      "cell_type": "markdown",
      "metadata": {
        "id": "vlIDe_h8-7WT",
        "colab_type": "text"
      },
      "source": [
        ">So people, we will now be using the output of the encoder that we were throwing away previously"
      ]
    },
    {
      "cell_type": "code",
      "metadata": {
        "id": "urAr0A8tYcVl",
        "colab_type": "code",
        "colab": {}
      },
      "source": [
        "class Seq2SeqRNN_attn(nn.Module):\n",
        "  def __init__(self, emb_enc, emb_dec, nh, out_sl, nl=2, bos_idx=0, pad_idx=1):\n",
        "    super().__init__()\n",
        "    self.nl, self.nh, self.out_sl, self.pr_force = nl, nh, out_sl, 1\n",
        "    self.bos_idx, self.pad_idx = bos_idx, pad_idx\n",
        "    self.emb_enc, self.emb_dec = emb_enc, emb_dec\n",
        "    self.emb_sz_enc, self.emb_sz_dec = emb_enc.embedding_dim, emb_dec.embedding_dim\n",
        "    self.voc_sz_dec = emb_dec.num_embeddings\n",
        "\n",
        "    self.emb_enc_drop = nn.Dropout(0.15)\n",
        "    self.gru_enc = nn.GRU(self.emb_sz_enc, nh, num_layers=nl, dropout=0.25, batch_first=True, bidirectional=True)\n",
        "    self.out_enc = nn.Linear(2*nh, self.emb_sz_dec, bias=False)\n",
        "\n",
        "    self.gru_dec = nn.GRU(self.emb_sz_dec + 2*nh, self.emb_sz_dec, num_layers=nl, dropout=0.1, batch_first=True)\n",
        "    self.out_drop = nn.Dropout(0.35)\n",
        "    self.out = nn.Linear(self.emb_sz_dec, self.voc_sz_dec)\n",
        "    self.out.weight.data = self.emb_dec.weight.data\n",
        "\n",
        "    self.enc_att = nn.Linear(2*nh, self.emb_sz_dec, bias=False)\n",
        "    self.hid_att = nn.Linear(self.emb_sz_dec, self.emb_sz_dec)\n",
        "    self.V = self.init_param(self.emb_sz_dec)\n",
        "\n",
        "  def initHidden(self, bs): return one_param(self).new_zeros(2*self.nl, bs, self.nh)\n",
        "  def init_param(self, *sz): return nn.Parameter(torch.randn(sz)/math.sqrt(sz[0]))\n",
        "  \n",
        "  def encoder(self, bs, inp):\n",
        "    h = self.initHidden(bs)\n",
        "    emb = self.emb_enc_drop(self.emb_enc(inp))\n",
        "    enc_out, hid = self.gru_enc(emb, 2*h)\n",
        "\n",
        "    pre_hid = hid.view(2, self.nl, bs, self.nh).permute(1,2,0,3).contiguous()\n",
        "    pre_hid = pre_hid.view(self.nl, bs, 2*self.nh)\n",
        "    hid = self.out_enc(pre_hid)\n",
        "    return hid, enc_out\n",
        "  \n",
        "  def decoder(self, dec_inp, hid, enc_att, enc_out):\n",
        "    hid_att = self.hid_att(hid[-1])\n",
        "    u = torch.tanh(enc_att + hid_att[:,None])\n",
        "    attn_wgts = F.softmax(u @ self.V, 1)\n",
        "    ctx = (attn_wgts[...,None] * enc_out).sum(1)\n",
        "    emb = self.emb_dec(dec_inp)\n",
        "    outp, hid = self.gru_dec(torch.cat([emb, ctx], 1)[:, None], hid)\n",
        "    outp = self.out(self.out_drop(outp[:,0]))\n",
        "    return hid, outp\n",
        "\n",
        "  def show(self, nm, v):\n",
        "    if False: print(f\"{nm}={v[nm].shape}\")\n",
        "\n",
        "  def forward(self, inp, targ=None):\n",
        "    bs, sl = inp.size()\n",
        "    hid, enc_out = self.encoder(bs, inp)\n",
        "    dec_inp = inp.new_zeros(bs).long() + self.bos_idx\n",
        "    enc_att = self.enc_att(enc_out)\n",
        "\n",
        "    res = []\n",
        "    for i in range(self.out_sl):\n",
        "      hid, outp = self.decoder(dec_inp, hid, enc_att, enc_out)\n",
        "      res.append(outp)\n",
        "      dec_inp = outp.max(1)[1]\n",
        "      if (dec_inp == self.pad_idx).all(): break\n",
        "      if (targ is not None) and (random.random() < self.pr_force):\n",
        "        if i>=targ.shape[1]:continue\n",
        "        dec_inp = targ[:,i]\n",
        "    return torch.stack(res, dim=1)\n",
        "    \n",
        "\n"
      ],
      "execution_count": 28,
      "outputs": []
    },
    {
      "cell_type": "code",
      "metadata": {
        "id": "XUET3lw0I0vl",
        "colab_type": "code",
        "colab": {}
      },
      "source": [
        "model = Seq2SeqRNN_attn(emb_enc, emb_dec, 256, 120)\n",
        "learn = Learner(data, model, loss_func=seq2seqloss, metrics=[seq2seq_acc, CorpusBleu(len(data.y.vocab.itos))],\n",
        "                callback_fns=partial(TeacherForcing, end_epoch=30))"
      ],
      "execution_count": 32,
      "outputs": []
    },
    {
      "cell_type": "code",
      "metadata": {
        "id": "-Jqtp88RJSaR",
        "colab_type": "code",
        "colab": {
          "base_uri": "https://localhost:8080/",
          "height": 393
        },
        "outputId": "c1e7bed8-23ec-4b8d-9fa4-4ae5ac2d1def"
      },
      "source": [
        "learn.lr_find()\n",
        "learn.recorder.plot()"
      ],
      "execution_count": 33,
      "outputs": [
        {
          "output_type": "display_data",
          "data": {
            "text/html": [
              "\n",
              "    <div>\n",
              "        <style>\n",
              "            /* Turns off some styling */\n",
              "            progress {\n",
              "                /* gets rid of default border in Firefox and Opera. */\n",
              "                border: none;\n",
              "                /* Needs to be in here for Safari polyfill so background images work as expected. */\n",
              "                background-size: auto;\n",
              "            }\n",
              "            .progress-bar-interrupted, .progress-bar-interrupted::-webkit-progress-bar {\n",
              "                background: #F44336;\n",
              "            }\n",
              "        </style>\n",
              "      <progress value='0' class='' max='2' style='width:300px; height:20px; vertical-align: middle;'></progress>\n",
              "      0.00% [0/2 00:00<00:00]\n",
              "    </div>\n",
              "    \n",
              "<table border=\"1\" class=\"dataframe\">\n",
              "  <thead>\n",
              "    <tr style=\"text-align: left;\">\n",
              "      <th>epoch</th>\n",
              "      <th>train_loss</th>\n",
              "      <th>valid_loss</th>\n",
              "      <th>seq2seq_acc</th>\n",
              "      <th>bleu</th>\n",
              "      <th>time</th>\n",
              "    </tr>\n",
              "  </thead>\n",
              "  <tbody>\n",
              "  </tbody>\n",
              "</table><p>\n",
              "\n",
              "    <div>\n",
              "        <style>\n",
              "            /* Turns off some styling */\n",
              "            progress {\n",
              "                /* gets rid of default border in Firefox and Opera. */\n",
              "                border: none;\n",
              "                /* Needs to be in here for Safari polyfill so background images work as expected. */\n",
              "                background-size: auto;\n",
              "            }\n",
              "            .progress-bar-interrupted, .progress-bar-interrupted::-webkit-progress-bar {\n",
              "                background: #F44336;\n",
              "            }\n",
              "        </style>\n",
              "      <progress value='75' class='' max='97' style='width:300px; height:20px; vertical-align: middle;'></progress>\n",
              "      77.32% [75/97 00:57<00:16 30.3857]\n",
              "    </div>\n",
              "    "
            ],
            "text/plain": [
              "<IPython.core.display.HTML object>"
            ]
          },
          "metadata": {
            "tags": []
          }
        },
        {
          "output_type": "stream",
          "text": [
            "LR Finder is complete, type {learner_name}.recorder.plot() to see the graph.\n"
          ],
          "name": "stdout"
        },
        {
          "output_type": "display_data",
          "data": {
            "image/png": "[encoded data removed]",
            "text/plain": [
              "<Figure size 432x288 with 1 Axes>"
            ]
          },
          "metadata": {
            "tags": [],
            "needs_background": "light"
          }
        }
      ]
    },
    {
      "cell_type": "code",
      "metadata": {
        "id": "6o4HGUFbJa2g",
        "colab_type": "code",
        "colab": {
          "base_uri": "https://localhost:8080/",
          "height": 374
        },
        "outputId": "d6ee86e4-c3c4-4cc2-b58c-c7f59d21e85b"
      },
      "source": [
        "learn.fit_one_cycle(10, 1e-3)"
      ],
      "execution_count": 34,
      "outputs": [
        {
          "output_type": "display_data",
          "data": {
            "text/html": [
              "<table border=\"1\" class=\"dataframe\">\n",
              "  <thead>\n",
              "    <tr style=\"text-align: left;\">\n",
              "      <th>epoch</th>\n",
              "      <th>train_loss</th>\n",
              "      <th>valid_loss</th>\n",
              "      <th>seq2seq_acc</th>\n",
              "      <th>bleu</th>\n",
              "      <th>time</th>\n",
              "    </tr>\n",
              "  </thead>\n",
              "  <tbody>\n",
              "    <tr>\n",
              "      <td>0</td>\n",
              "      <td>7.872671</td>\n",
              "      <td>6.864795</td>\n",
              "      <td>0.031595</td>\n",
              "      <td>0.000000</td>\n",
              "      <td>01:33</td>\n",
              "    </tr>\n",
              "    <tr>\n",
              "      <td>1</td>\n",
              "      <td>4.257044</td>\n",
              "      <td>5.645517</td>\n",
              "      <td>0.123564</td>\n",
              "      <td>0.018148</td>\n",
              "      <td>01:29</td>\n",
              "    </tr>\n",
              "    <tr>\n",
              "      <td>2</td>\n",
              "      <td>3.372246</td>\n",
              "      <td>5.074924</td>\n",
              "      <td>0.161016</td>\n",
              "      <td>0.031244</td>\n",
              "      <td>01:10</td>\n",
              "    </tr>\n",
              "    <tr>\n",
              "      <td>3</td>\n",
              "      <td>2.976499</td>\n",
              "      <td>4.896969</td>\n",
              "      <td>0.155907</td>\n",
              "      <td>0.046843</td>\n",
              "      <td>01:10</td>\n",
              "    </tr>\n",
              "    <tr>\n",
              "      <td>4</td>\n",
              "      <td>2.823645</td>\n",
              "      <td>4.386734</td>\n",
              "      <td>0.266331</td>\n",
              "      <td>0.060602</td>\n",
              "      <td>01:05</td>\n",
              "    </tr>\n",
              "    <tr>\n",
              "      <td>5</td>\n",
              "      <td>2.559031</td>\n",
              "      <td>4.201716</td>\n",
              "      <td>0.301064</td>\n",
              "      <td>0.073100</td>\n",
              "      <td>01:07</td>\n",
              "    </tr>\n",
              "    <tr>\n",
              "      <td>6</td>\n",
              "      <td>2.473868</td>\n",
              "      <td>3.312508</td>\n",
              "      <td>0.515844</td>\n",
              "      <td>0.162924</td>\n",
              "      <td>01:06</td>\n",
              "    </tr>\n",
              "    <tr>\n",
              "      <td>7</td>\n",
              "      <td>2.420281</td>\n",
              "      <td>3.363373</td>\n",
              "      <td>0.507323</td>\n",
              "      <td>0.189114</td>\n",
              "      <td>01:02</td>\n",
              "    </tr>\n",
              "    <tr>\n",
              "      <td>8</td>\n",
              "      <td>2.370510</td>\n",
              "      <td>3.382040</td>\n",
              "      <td>0.495457</td>\n",
              "      <td>0.199671</td>\n",
              "      <td>01:01</td>\n",
              "    </tr>\n",
              "    <tr>\n",
              "      <td>9</td>\n",
              "      <td>2.284131</td>\n",
              "      <td>3.361754</td>\n",
              "      <td>0.497736</td>\n",
              "      <td>0.207413</td>\n",
              "      <td>01:05</td>\n",
              "    </tr>\n",
              "  </tbody>\n",
              "</table>"
            ],
            "text/plain": [
              "<IPython.core.display.HTML object>"
            ]
          },
          "metadata": {
            "tags": []
          }
        }
      ]
    },
    {
      "cell_type": "markdown",
      "metadata": {
        "id": "HePI2Ch0Mmr0",
        "colab_type": "text"
      },
      "source": [
        "Not much change in the bleu score but we were able to get the Seq2Seq accuracy to a very good level.\n",
        "Bleu requires more training since the sentence length is big"
      ]
    },
    {
      "cell_type": "code",
      "metadata": {
        "id": "ckTMdvvCJ2on",
        "colab_type": "code",
        "colab": {
          "base_uri": "https://localhost:8080/",
          "height": 58
        },
        "outputId": "c057e072-8436-49c6-cda0-66000e6f95ff"
      },
      "source": [
        "inputs, targets, outputs = get_predictions(learn)"
      ],
      "execution_count": 35,
      "outputs": [
        {
          "output_type": "display_data",
          "data": {
            "text/html": [
              "\n",
              "    <div>\n",
              "        <style>\n",
              "            /* Turns off some styling */\n",
              "            progress {\n",
              "                /* gets rid of default border in Firefox and Opera. */\n",
              "                border: none;\n",
              "                /* Needs to be in here for Safari polyfill so background images work as expected. */\n",
              "                background-size: auto;\n",
              "            }\n",
              "            .progress-bar-interrupted, .progress-bar-interrupted::-webkit-progress-bar {\n",
              "                background: #F44336;\n",
              "            }\n",
              "        </style>\n",
              "      <progress value='25' class='' max='25' style='width:300px; height:20px; vertical-align: middle;'></progress>\n",
              "      100.00% [25/25 00:05<00:00]\n",
              "    </div>\n",
              "    "
            ],
            "text/plain": [
              "<IPython.core.display.HTML object>"
            ]
          },
          "metadata": {
            "tags": []
          }
        }
      ]
    },
    {
      "cell_type": "code",
      "metadata": {
        "id": "k7-L_OsGM7RE",
        "colab_type": "code",
        "colab": {
          "base_uri": "https://localhost:8080/",
          "height": 54
        },
        "outputId": "a9e89f2f-a6ba-44e1-dfdc-db5129550e87"
      },
      "source": [
        "inputs[0]"
      ],
      "execution_count": 36,
      "outputs": [
        {
          "output_type": "execute_result",
          "data": {
            "text/plain": [
              "'xxbos 4 . exhorta a todos los gobiernos y a las partes en situaciones complejas de emergencia humanitaria , en particular en los conflictos armados y en las situaciones posteriores a éstos , en los países donde xxunk actividades el personal de asistencia humanitaria a que , de conformidad con las disposiciones pertinentes del derecho internacional y de la legislación nacional , cooperen plenamente con las naciones unidas y otros organismos y organizaciones humanitarios y garanticen el libre acceso , en condiciones de seguridad , del personal de asistencia humanitaria para que éste pueda desempeñar con eficacia su tarea de ayudar a la población civil afectada , incluidos los refugiados y los desplazados en el interior de su país ;'"
            ]
          },
          "metadata": {
            "tags": []
          },
          "execution_count": 36
        }
      ]
    },
    {
      "cell_type": "code",
      "metadata": {
        "id": "L7g6LSweM9Xl",
        "colab_type": "code",
        "colab": {
          "base_uri": "https://localhost:8080/",
          "height": 54
        },
        "outputId": "e2c9acf0-c2d2-4315-ae8f-61cf9f355462"
      },
      "source": [
        "targets[0]"
      ],
      "execution_count": 37,
      "outputs": [
        {
          "output_type": "execute_result",
          "data": {
            "text/plain": [
              "'xxbos 4 . calls upon all states to continue to continue to the in in particular in the in in particular in the and in the and of the and in the and of the and and the of the and of the and and the of the and and the of the and and the of the and and the of the and and the of the and of the and and the of the and of the and and the of the and of the and and the of the and of the and of the and and to the the of the and of the and of the and ; xxpad xxpad xxpad xxpad xxpad xxpad xxpad'"
            ]
          },
          "metadata": {
            "tags": []
          },
          "execution_count": 37
        }
      ]
    },
    {
      "cell_type": "code",
      "metadata": {
        "id": "kDi4w5CNM_Bk",
        "colab_type": "code",
        "colab": {
          "base_uri": "https://localhost:8080/",
          "height": 54
        },
        "outputId": "75b30271-ffc3-4d84-8587-5d952bbeedc0"
      },
      "source": [
        "outputs[0]"
      ],
      "execution_count": 38,
      "outputs": [
        {
          "output_type": "execute_result",
          "data": {
            "text/plain": [
              "'xxbos 4 . calls upon all governments and parties in complex humanitarian emergencies , in particular in armed conflicts and in post - conflict situations , in countries in which humanitarian personnel are operating , in conformity with the relevant provisions of international law and national laws , to cooperate fully with the united nations and other humanitarian agencies and organizations and to ensure the safe and unhindered access of humanitarian personnel in order to allow them to xxunk efficiently their task of assisting the affected civilian population , including refugees and internally displaced persons ; xxpad xxpad xxpad xxpad xxpad xxpad xxpad xxpad xxpad xxpad xxpad xxpad xxpad xxpad xxpad xxpad xxpad'"
            ]
          },
          "metadata": {
            "tags": []
          },
          "execution_count": 38
        }
      ]
    },
    {
      "cell_type": "markdown",
      "metadata": {
        "id": "MhIlybKdNFFL",
        "colab_type": "text"
      },
      "source": [
        "Atleast the repetition problem is less now :P"
      ]
    },
    {
      "cell_type": "code",
      "metadata": {
        "id": "NpOvWaVdNAj6",
        "colab_type": "code",
        "colab": {}
      },
      "source": [
        ""
      ],
      "execution_count": null,
      "outputs": []
    }
  ]
}