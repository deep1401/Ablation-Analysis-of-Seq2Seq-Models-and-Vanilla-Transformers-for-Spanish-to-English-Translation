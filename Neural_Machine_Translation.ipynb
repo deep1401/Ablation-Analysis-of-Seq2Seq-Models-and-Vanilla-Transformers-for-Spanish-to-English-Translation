{
  "nbformat": 4,
  "nbformat_minor": 0,
  "metadata": {
    "colab": {
      "name": "Neural Machine Translation.ipynb",
      "provenance": [],
      "collapsed_sections": []
    },
    "kernelspec": {
      "name": "python3",
      "display_name": "Python 3"
    },
    "accelerator": "GPU"
  },
  "cells": [
    {
      "cell_type": "code",
      "metadata": {
        "id": "CTEWHW0-p-u1",
        "colab_type": "code",
        "colab": {}
      },
      "source": [
        "%reload_ext autoreload\n",
        "%autoreload 2\n",
        "%matplotlib inline"
      ],
      "execution_count": 3,
      "outputs": []
    },
    {
      "cell_type": "code",
      "metadata": {
        "id": "9kDN2DyBu4zj",
        "colab_type": "code",
        "colab": {}
      },
      "source": [
        "from bs4 import BeautifulSoup\n",
        "import pandas as pd\n",
        "from fastai.text import *"
      ],
      "execution_count": 4,
      "outputs": []
    },
    {
      "cell_type": "code",
      "metadata": {
        "id": "YI3M0mITry48",
        "colab_type": "code",
        "colab": {}
      },
      "source": [
        "with open('/content/en-es.tmx',mode='r') as f:\n",
        "  text = f.read()\n",
        "  f.close()"
      ],
      "execution_count": 3,
      "outputs": []
    },
    {
      "cell_type": "code",
      "metadata": {
        "id": "XX-p-_fm6mdX",
        "colab_type": "code",
        "colab": {}
      },
      "source": [
        "path = '/content/drive/My\\ Drive/'"
      ],
      "execution_count": 5,
      "outputs": []
    },
    {
      "cell_type": "code",
      "metadata": {
        "id": "x1STmdpluhsB",
        "colab_type": "code",
        "colab": {
          "base_uri": "https://localhost:8080/",
          "height": 319
        },
        "outputId": "6349461c-cb14-4feb-e361-1b4bac691cec"
      },
      "source": [
        "print(text[:500])"
      ],
      "execution_count": 10,
      "outputs": [
        {
          "output_type": "stream",
          "text": [
            "<?xml version=\"1.0\" encoding=\"UTF-8\" ?>\n",
            "<tmx version=\"1.4\">\n",
            "<header creationdate=\"Sun Mar  4 00:54:42 2018\"\n",
            "          srclang=\"en\"\n",
            "          adminlang=\"en\"\n",
            "          o-tmf=\"unknown\"\n",
            "          segtype=\"sentence\"\n",
            "          creationtool=\"Uplug\"\n",
            "          creationtoolversion=\"unknown\"\n",
            "          datatype=\"PlainText\" />\n",
            "  <body>\n",
            "    <tu>\n",
            "      <tuv xml:lang=\"en\"><seg>RESOLUTION 55/100</seg></tuv>\n",
            "      <tuv xml:lang=\"es\"><seg>RESOLUCIÓN 55/100</seg></tuv>\n",
            "    </tu>\n",
            "    <tu>\n",
            "      <tuv xml:lang=\"en\"><s\n"
          ],
          "name": "stdout"
        }
      ]
    },
    {
      "cell_type": "code",
      "metadata": {
        "id": "jv9e1MHjujR9",
        "colab_type": "code",
        "colab": {
          "base_uri": "https://localhost:8080/",
          "height": 120
        },
        "outputId": "ad61c146-c410-44d8-ff95-22607d412103"
      },
      "source": [
        "soup = BeautifulSoup(text,'html.parser')\n",
        "row = soup.find('tu')\n",
        "print(row)\n",
        "\n",
        "x = [i for i in row.get_text().split('\\n') if i!='']\n",
        "print(x)"
      ],
      "execution_count": 24,
      "outputs": [
        {
          "output_type": "stream",
          "text": [
            "<tu>\n",
            "<tuv xml:lang=\"en\"><seg>RESOLUTION 55/100</seg></tuv>\n",
            "<tuv xml:lang=\"es\"><seg>RESOLUCIÓN 55/100</seg></tuv>\n",
            "</tu>\n",
            "['RESOLUTION 55/100', 'RESOLUCIÓN 55/100']\n"
          ],
          "name": "stdout"
        }
      ]
    },
    {
      "cell_type": "code",
      "metadata": {
        "id": "YfOjIE9MvR5f",
        "colab_type": "code",
        "colab": {}
      },
      "source": [
        "text_list = []\n",
        "rows = soup.find_all('tu')\n",
        "for row in rows:\n",
        "  x = [i for i in row.get_text().split('\\n') if i!='']\n",
        "  text_list.append(x)"
      ],
      "execution_count": 25,
      "outputs": []
    },
    {
      "cell_type": "code",
      "metadata": {
        "id": "FAo-80WZwfBC",
        "colab_type": "code",
        "colab": {}
      },
      "source": [
        "df = pd.DataFrame(text_list)"
      ],
      "execution_count": 29,
      "outputs": []
    },
    {
      "cell_type": "code",
      "metadata": {
        "id": "-POoTod3wtGn",
        "colab_type": "code",
        "colab": {
          "base_uri": "https://localhost:8080/",
          "height": 221
        },
        "outputId": "e76e481f-4567-4eec-b998-dd0b865db34b"
      },
      "source": [
        "df.head()"
      ],
      "execution_count": 47,
      "outputs": [
        {
          "output_type": "execute_result",
          "data": {
            "text/html": [
              "<div>\n",
              "<style scoped>\n",
              "    .dataframe tbody tr th:only-of-type {\n",
              "        vertical-align: middle;\n",
              "    }\n",
              "\n",
              "    .dataframe tbody tr th {\n",
              "        vertical-align: top;\n",
              "    }\n",
              "\n",
              "    .dataframe thead th {\n",
              "        text-align: right;\n",
              "    }\n",
              "</style>\n",
              "<table border=\"1\" class=\"dataframe\">\n",
              "  <thead>\n",
              "    <tr style=\"text-align: right;\">\n",
              "      <th></th>\n",
              "      <th>en</th>\n",
              "      <th>es</th>\n",
              "    </tr>\n",
              "  </thead>\n",
              "  <tbody>\n",
              "    <tr>\n",
              "      <th>0</th>\n",
              "      <td>RESOLUTION 55/100</td>\n",
              "      <td>RESOLUCIÓN 55/100</td>\n",
              "    </tr>\n",
              "    <tr>\n",
              "      <th>1</th>\n",
              "      <td>Adopted at the 81st plenary meeting, on 4 Dece...</td>\n",
              "      <td>Aprobada en la 81a. sesión plenaria, celebrada...</td>\n",
              "    </tr>\n",
              "    <tr>\n",
              "      <th>2</th>\n",
              "      <td>In favour: Afghanistan, Algeria, Angola, Antig...</td>\n",
              "      <td>Votos a favor: Afganistán, Angola, Antigua y B...</td>\n",
              "    </tr>\n",
              "    <tr>\n",
              "      <th>3</th>\n",
              "      <td>Abstentions: Albania, Andorra, Australia, Aust...</td>\n",
              "      <td>Abstenciones: Albania, Alemania, Andorra, Aust...</td>\n",
              "    </tr>\n",
              "    <tr>\n",
              "      <th>4</th>\n",
              "      <td>55/100. Respect for the right to universal fre...</td>\n",
              "      <td>55/100. Respeto del derecho a la libertad univ...</td>\n",
              "    </tr>\n",
              "  </tbody>\n",
              "</table>\n",
              "</div>"
            ],
            "text/plain": [
              "                                                  en                                                 es\n",
              "0                                  RESOLUTION 55/100                                  RESOLUCIÓN 55/100\n",
              "1  Adopted at the 81st plenary meeting, on 4 Dece...  Aprobada en la 81a. sesión plenaria, celebrada...\n",
              "2  In favour: Afghanistan, Algeria, Angola, Antig...  Votos a favor: Afganistán, Angola, Antigua y B...\n",
              "3  Abstentions: Albania, Andorra, Australia, Aust...  Abstenciones: Albania, Alemania, Andorra, Aust...\n",
              "4  55/100. Respect for the right to universal fre...  55/100. Respeto del derecho a la libertad univ..."
            ]
          },
          "metadata": {
            "tags": []
          },
          "execution_count": 47
        }
      ]
    },
    {
      "cell_type": "code",
      "metadata": {
        "id": "uBwxTlr_yXbV",
        "colab_type": "code",
        "colab": {}
      },
      "source": [
        "df.columns = ['en','es']"
      ],
      "execution_count": 36,
      "outputs": []
    },
    {
      "cell_type": "code",
      "metadata": {
        "id": "_7IAVT5xzdky",
        "colab_type": "code",
        "colab": {}
      },
      "source": [
        "df.drop(8506,axis=0,inplace=True)"
      ],
      "execution_count": 45,
      "outputs": []
    },
    {
      "cell_type": "code",
      "metadata": {
        "id": "tScNpce7ykZV",
        "colab_type": "code",
        "colab": {}
      },
      "source": [
        "df.to_csv('/content/drive/My Drive/translation_data.csv')"
      ],
      "execution_count": 48,
      "outputs": []
    },
    {
      "cell_type": "code",
      "metadata": {
        "id": "-oAQgGg_5vO9",
        "colab_type": "code",
        "colab": {}
      },
      "source": [
        "df = pd.read_csv('/content/drive/My Drive/translation_data.csv')"
      ],
      "execution_count": 3,
      "outputs": []
    },
    {
      "cell_type": "markdown",
      "metadata": {
        "id": "nho3Ozncz7uU",
        "colab_type": "text"
      },
      "source": [
        "### Pre Processing"
      ]
    },
    {
      "cell_type": "code",
      "metadata": {
        "id": "sKjETKiUypML",
        "colab_type": "code",
        "colab": {}
      },
      "source": [
        "df['en'] = df['en'].apply(lambda x:x.lower())\n",
        "df['es'] = df['es'].apply(lambda x:x.lower())"
      ],
      "execution_count": 4,
      "outputs": []
    },
    {
      "cell_type": "code",
      "metadata": {
        "id": "IEH6ZSt0zaaA",
        "colab_type": "code",
        "colab": {}
      },
      "source": [
        "def seq2seq_collate(samples, pad_idx=1, pad_first=True, backwards=False):\n",
        "  \"Padding to make all samples of equal length\"\n",
        "  samples = to_data(samples)\n",
        "  max_len_x, max_len_y = max([len(s[0]) for s in samples]), max([len(s[1]) for s in samples])\n",
        "  res_x = torch.zeros(len(samples),max_len_x).long() + pad_idx\n",
        "  res_y = torch.zeros(len(samples),max_len_y).long() + pad_idx\n",
        "  if backwards: pad_first = not pad_first\n",
        "  for i,s in enumerate(samples):\n",
        "    if pad_first:\n",
        "      res_x[i,-len(s[0]):], res_y[i,-len(s[1]):] = LongTensor(s[0]) , LongTensor(s[1])\n",
        "    else:\n",
        "      res_x[i,:len(s[0]):], res_y[i,:len(s[1]):] = LongTensor(s[0]) , LongTensor(s[1])\n",
        "  if backwards: res_x,res_y = res_x.flip(1),res_y.flip(1)\n",
        "  return res_x,res_y\n"
      ],
      "execution_count": 10,
      "outputs": []
    },
    {
      "cell_type": "code",
      "metadata": {
        "id": "fTaQb4yL1Wat",
        "colab_type": "code",
        "colab": {}
      },
      "source": [
        "class Seq2SeqDatabunch(TextDataBunch):\n",
        "  \"Create a `TextDataBunch` for training the RNN Classifier\"\n",
        "  @classmethod\n",
        "  def create(cls, train_ds, valid_ds, test_ds=None, path:PathOrStr='', bs:int=32, val_bs:int=None, pad_idx=1,\n",
        "             dl_tfms=None, pad_first=False, device:torch.device=None, no_check:bool=False, backwards:bool=False, **dl_kwargs) -> DataBunch:\n",
        "             \"Function that transform the `datasets` in a `DataBunch` for classification. Passes `**dl_kwargs` on to `DataLoader()`\"\n",
        "             datasets = cls._init_ds(train_ds,valid_ds,test_ds)\n",
        "             val_bs = ifnone(val_bs,bs)\n",
        "             collate_fn = partial(seq2seq_collate, pad_idx=pad_idx, pad_first=pad_first, backwards=backwards)\n",
        "             train_sampler = SortishSampler(datasets[0].x, key=lambda t: len(datasets[0][t][0].data), bs=bs//2)\n",
        "             train_dl = DataLoader(datasets[0], batch_size=bs, sampler=train_sampler, drop_last=True, **dl_kwargs)\n",
        "             dataloaders = [train_dl]\n",
        "             for ds in datasets[1:]:\n",
        "               lengths =  [len(t) for t in ds.x.items]\n",
        "               sampler = SortSampler(ds.x, key=lengths.__getitem__)\n",
        "               dataloaders.append(DataLoader(ds, batch_size=val_bs, sampler=sampler, **dl_kwargs))\n",
        "             return cls(*dataloaders, path=path, device=device, collate_fn=collate_fn, no_check=no_check)\n"
      ],
      "execution_count": 11,
      "outputs": []
    },
    {
      "cell_type": "code",
      "metadata": {
        "id": "CFlfo11y6HqB",
        "colab_type": "code",
        "colab": {}
      },
      "source": [
        "class Seq2SeqTextList(TextList):\n",
        "  _bunch = Seq2SeqDatabunch\n",
        "  _label_cls = TextList"
      ],
      "execution_count": 12,
      "outputs": []
    },
    {
      "cell_type": "code",
      "metadata": {
        "id": "PK4aW_X46Uzh",
        "colab_type": "code",
        "colab": {
          "base_uri": "https://localhost:8080/",
          "height": 38
        },
        "outputId": "4f9e450e-7166-4e44-f1aa-79cc1d1d248a"
      },
      "source": [
        "src = Seq2SeqTextList.from_df(df,path=path,cols = 'es').split_by_rand_pct(seed=42).label_from_df(cols='en',label_cls=TextList)"
      ],
      "execution_count": 40,
      "outputs": [
        {
          "output_type": "display_data",
          "data": {
            "text/html": [
              ""
            ],
            "text/plain": [
              "<IPython.core.display.HTML object>"
            ]
          },
          "metadata": {
            "tags": []
          }
        },
        {
          "output_type": "display_data",
          "data": {
            "text/html": [
              ""
            ],
            "text/plain": [
              "<IPython.core.display.HTML object>"
            ]
          },
          "metadata": {
            "tags": []
          }
        },
        {
          "output_type": "display_data",
          "data": {
            "text/html": [
              ""
            ],
            "text/plain": [
              "<IPython.core.display.HTML object>"
            ]
          },
          "metadata": {
            "tags": []
          }
        },
        {
          "output_type": "display_data",
          "data": {
            "text/html": [
              ""
            ],
            "text/plain": [
              "<IPython.core.display.HTML object>"
            ]
          },
          "metadata": {
            "tags": []
          }
        }
      ]
    },
    {
      "cell_type": "code",
      "metadata": {
        "id": "OzAE8ksn6-XU",
        "colab_type": "code",
        "colab": {
          "base_uri": "https://localhost:8080/",
          "height": 54
        },
        "outputId": "30a71c9f-0183-47bd-e888-f5d248d99455"
      },
      "source": [
        "np.percentile([len(o) for o in src.train.x.items] + [len(o) for o in src.valid.x.items], 90)"
      ],
      "execution_count": 41,
      "outputs": [
        {
          "output_type": "execute_result",
          "data": {
            "text/plain": [
              "114.0"
            ]
          },
          "metadata": {
            "tags": []
          },
          "execution_count": 41
        }
      ]
    },
    {
      "cell_type": "code",
      "metadata": {
        "id": "x1bysIv17Ga4",
        "colab_type": "code",
        "colab": {
          "base_uri": "https://localhost:8080/",
          "height": 54
        },
        "outputId": "f83971f7-b7de-4d43-e46c-e728aefd4c06"
      },
      "source": [
        "np.percentile([len(o) for o in src.train.y.items] + [len(o) for o in src.valid.y.items], 90)"
      ],
      "execution_count": 42,
      "outputs": [
        {
          "output_type": "execute_result",
          "data": {
            "text/plain": [
              "101.0"
            ]
          },
          "metadata": {
            "tags": []
          },
          "execution_count": 42
        }
      ]
    },
    {
      "cell_type": "code",
      "metadata": {
        "id": "xAMU6Uxc71EF",
        "colab_type": "code",
        "colab": {}
      },
      "source": [
        "src = src.filter_by_func(lambda x,y:len(x)>120 or len(y)>110)"
      ],
      "execution_count": 43,
      "outputs": []
    },
    {
      "cell_type": "code",
      "metadata": {
        "id": "oHAGRYKs8fJo",
        "colab_type": "code",
        "colab": {
          "base_uri": "https://localhost:8080/",
          "height": 54
        },
        "outputId": "85463789-3a70-4888-a98f-3341808ef011"
      },
      "source": [
        "len(src.train + src.valid)"
      ],
      "execution_count": 44,
      "outputs": [
        {
          "output_type": "execute_result",
          "data": {
            "text/plain": [
              "7763"
            ]
          },
          "metadata": {
            "tags": []
          },
          "execution_count": 44
        }
      ]
    },
    {
      "cell_type": "code",
      "metadata": {
        "id": "ibkIbywo8nXR",
        "colab_type": "code",
        "colab": {}
      },
      "source": [
        "data = src.databunch()"
      ],
      "execution_count": 45,
      "outputs": []
    },
    {
      "cell_type": "code",
      "metadata": {
        "id": "sLPQmYvc8rXw",
        "colab_type": "code",
        "colab": {}
      },
      "source": [
        "data.save()"
      ],
      "execution_count": 46,
      "outputs": []
    },
    {
      "cell_type": "code",
      "metadata": {
        "id": "wF0auEq09Y5v",
        "colab_type": "code",
        "colab": {
          "base_uri": "https://localhost:8080/",
          "height": 319
        },
        "outputId": "ce355a72-4a48-4eae-ff13-bd0d52d7d629"
      },
      "source": [
        "data"
      ],
      "execution_count": 49,
      "outputs": [
        {
          "output_type": "execute_result",
          "data": {
            "text/plain": [
              "Seq2SeqDatabunch;\n",
              "\n",
              "Train: LabelList (6221 items)\n",
              "x: Seq2SeqTextList\n",
              "xxbos resolución 55 / 100,xxbos aprobada en la 81a . sesión plenaria , celebrada el 4 de diciembre de 2000 , por recomendación de la comisión ( a / 55 / 602 / add.2 , párr . 94),el proyecto de resolución recomendado en el informe fue patrocinado en la comisión por los países siguientes : bolivia , cuba , el salvador , ghana y honduras . en votación registrada de 106 votos contra uno y 67 abstenciones , como sigue :,xxbos 55 / 100 . respeto del derecho a la libertad universal de xxunk e importancia vital de la reunificación de las familias,xxbos recordando las disposiciones de la declaración universal de derechos humanosresolución 217 a ( iii ) . , y el artículo 12 del pacto internacional de derechos civiles y políticosvéase resolución 2200 a ( xxi ) , anexo . ,,xxbos subrayando que , conforme se declara en el programa de acción de la conferencia internacional sobre la población y el desarrolloinforme de la conferencia internacional sobre la población y el desarrollo , el cairo , 5 a 13 de septiembre de 1994 ( publicación de las naciones unidas , número de venta : s.95.xiii.18 ) , cap . i , resolución 1 , anexo . , la reunificación de las familias de los migrantes documentados es un factor importante en las migraciones internacionales y que las remesas de los migrantes documentados a sus países de origen constituyen a xxunk una fuente muy importante de xxunk y contribuyen al bienestar de los familiares que xxunk xxunk ,\n",
              "y: TextList\n",
              "xxbos resolution 55 / 100,xxbos adopted at the 81st plenary meeting , on 4 december 2000 , on the recommendation of the committee ( a / 55 / 602 / add.2 and corr.1 , para . 94),the draft resolution recommended in the report was sponsored in the committee by : bolivia , cuba , el salvador , ghana and honduras . by a recorded vote of 106 to 1 , with 67 abstentions , as follows :,xxbos 55 / 100 . respect for the right to universal freedom of travel and the vital importance of family reunification,xxbos recalling the provisions of the universal declaration of human rights , resolution 217 a ( iii ) . as well as article 12 of the international covenant on civil and political rights , see resolution 2200 a ( xxi ) , annex .,xxbos stressing that , as stated in the programme of action of the international conference on population and development , report of the international conference on population and development , cairo , 5 - 13 september 1994 ( united nations publication , sales no . e.95.xiii.18 ) , chap . i , resolution 1 , annex . family reunification of documented migrants is an important factor in international migration and that xxunk by documented migrants to their countries of origin often constitute a very important source of foreign exchange and are xxunk in improving the well - being of relatives xxunk xxunk ,\n",
              "Path: /content/drive/My Drive;\n",
              "\n",
              "Valid: LabelList (1542 items)\n",
              "x: Seq2SeqTextList\n",
              "xxbos 6 . acoge con satisfacción la labor xxunk a cabo en el plano regional y en estrecha colaboración con las respectivas comisiones regionales a fin de ejecutar los programas de acción para el desarrollo sostenible que podrían xxunk aportaciones xxunk al proceso preparatorio y a la propia cumbre ;,xxbos observando con reconocimiento la evaluación realizada por el secretario general de la aplicación de los resultados de las principales conferencias y cumbres de las naciones unidas en lo relativo a la promoción de los derechos y el bienestar de las personas con discapacidad , asegurando su plena participación e igualdad , así como las medidas adoptadas por el sistema de las naciones unidas para prevenir las condiciones de xxunk a / 56 / 169 y corr.1 , párrs . 25 y 26 . ,,xxbos 7 . pide también al secretario general que xxunk movilizar los recursos financieros necesarios para mantener al instituto xxunk del personal básico del cuadro orgánico que necesita para poder xxunk con eficacia en el cumplimiento de las obligaciones xxunk en su mandato ;,xxbos resolución 55 / 99,xxbos 9 . pide a los organismos especializados y a las demás organizaciones competentes del sistema de las naciones unidas que proporcionen información sobre :\n",
              "y: TextList\n",
              "xxbos 6 . welcomes the work undertaken at the regional level , in close collaboration with the respective regional commissions , to implement action programmes for sustainable development that could provide substantive inputs to the preparatory process and the summit itself ;,xxbos noting with appreciation the assessment by the secretary - general of the implementation of the outcomes of major united nations conferences and summits to promote the rights and well - being of persons with disabilities , ensuring their full participation and equality , as well as the measures undertaken by the united nations system aimed at preventing xxunk conditions , see a / 56 / 169 and corr.1 , paras . 25 and 26 .,xxbos 7 . also requests the secretary - general to xxunk his efforts to mobilize the financial resources necessary to maintain the institute with the core professional staff required to enable it to function effectively in the fulfilment of its mandated obligations ;,xxbos resolution 55 / 99,xxbos 9 . requests the specialized agencies and other organizations of the united nations system concerned to provide information on :\n",
              "Path: /content/drive/My Drive;\n",
              "\n",
              "Test: None"
            ]
          },
          "metadata": {
            "tags": []
          },
          "execution_count": 49
        }
      ]
    },
    {
      "cell_type": "code",
      "metadata": {
        "id": "sCfQ3gqm9q9m",
        "colab_type": "code",
        "colab": {}
      },
      "source": [
        "data = load_data('/content/drive/My Drive')"
      ],
      "execution_count": 13,
      "outputs": []
    },
    {
      "cell_type": "code",
      "metadata": {
        "id": "qPZ9UgPE9xdW",
        "colab_type": "code",
        "colab": {
          "base_uri": "https://localhost:8080/",
          "height": 882
        },
        "outputId": "a0aefee6-7a1f-4672-c5dc-8a41a7f358ee"
      },
      "source": [
        "data.show_batch()"
      ],
      "execution_count": 14,
      "outputs": [
        {
          "output_type": "display_data",
          "data": {
            "text/html": [
              "<table border=\"1\" class=\"dataframe\">\n",
              "  <thead>\n",
              "    <tr style=\"text-align: right;\">\n",
              "      <th>text</th>\n",
              "      <th>target</th>\n",
              "    </tr>\n",
              "  </thead>\n",
              "  <tbody>\n",
              "    <tr>\n",
              "      <td>xxbos 7 . alienta al fondo común para los productos básicos a que , en cooperación con el centro de comercio internacional , la conferencia de las naciones unidas sobre comercio y desarrollo y otros órganos pertinentes , siga ampliando las actividades de la segunda cuenta prestando en forma efectiva el apoyo necesario para investigación y desarrollo y servicios de xxunk en los países en desarrollo , lo que incluye</td>\n",
              "      <td>xxbos 7 . encourages the common fund for commodities , in cooperation with the international trade centre , the united nations conference on trade and development and other relevant bodies , to continue to expand the activities of its second account with the necessary and effective support for research and development and extension services in developing countries , including xxunk research on production and processing aimed at xxunk and small - sized and medium - sized enterprises in developing countries , in order to widen the scope of activities and thus ensure the effective participation of all stakeholders ;</td>\n",
              "    </tr>\n",
              "    <tr>\n",
              "      <td>xxbos 12 . insta a los estados a que adopten medidas especiales para proteger , en particular a las niñas afectadas por la guerra de las enfermedades de transmisión sexual , como el virus de la inmunodeficiencia humana y el síndrome de inmunodeficiencia adquirida y de la violencia que tiene su origen en el género , como la violación y el abuso sexual , la tortura , la explotación sexual</td>\n",
              "      <td>xxbos 12 . urges states to take special measures for the protection of war - affected girls and in particular to protect them from sexually transmitted diseases , such as human immunodeficiency virus / acquired immunodeficiency syndrome , and gender - based violence , including rape and sexual abuse , torture , sexual exploitation , abduction and forced labour , paying special attention to refugee and displaced girls , and to take into account the special needs of the war - affected girl child in the delivery of humanitarian assistance and disarmament , demobilization and reintegration processes ;</td>\n",
              "    </tr>\n",
              "    <tr>\n",
              "      <td>xxbos 2 . observa y pide que se amplíen y fortalezcan más las actividades que realizan numerosos países africanos con miras a intensificar los progresos en el ámbito de las reformas económicas , lo que incluye la aplicación de políticas macroeconómicas adecuadas ; la promoción del sector privado ; el perfeccionamiento del proceso de democratización ; el fortalecimiento de la sociedad civil ; la gestión de los asuntos públicos con</td>\n",
              "      <td>xxbos 2 . recognizes and calls for further broadening and strengthening of efforts by many african countries to enhance progress in areas covering economic reforms , including the xxunk in place of sound macroeconomic policies , promotion of the private sector , enhancement of the democratization process and strengthening of civil society and participatory , transparent and accountable governance and the rule of law , as well as increased attention to the human dimension , especially education , gender , population , health and south - south cooperation ;</td>\n",
              "    </tr>\n",
              "    <tr>\n",
              "      <td>xxbos a ) cooperen y realicen actividades concertadas con miras a reducir las disparidades existentes en las corrientes de información a todos los niveles incrementando la asistencia para el desarrollo de las capacidades e infraestructuras de comunicaciones de los países en desarrollo , teniendo debidamente en cuenta sus necesidades y las prioridades que esos países xxunk a esas esferas , para que tanto ellos como sus medios de información públicos</td>\n",
              "      <td>xxbos ( a ) to cooperate and xxunk with a view to reducing existing disparities in information flows at all levels by increasing assistance for the development of communication infrastructures and capabilities in developing countries , with due regard for their needs and the priorities attached to such areas by those countries , and in order to enable them and the public , private or other media in developing countries to develop their own information and communication policies freely and xxunk and increase the participation of media and individuals in the communication process , and to ensure a free flow of information at all levels ;</td>\n",
              "    </tr>\n",
              "    <tr>\n",
              "      <td>xxbos 19 . alienta a los estados miembros , a las organizaciones regionales , a las organizaciones intergubernamentales y no gubernamentales y a las fundaciones a que continúen apoyando las actividades que se llevan a cabo para promover una tecnología adecuada y formular normas internacionales para la buena marcha y la seguridad de las actividades humanitarias relativas a las minas , y en este contexto celebra la iniciación de la</td>\n",
              "      <td>xxbos 19 . encourages member states and regional , intergovernmental and non - governmental organizations and foundations to continue to support ongoing activities to promote appropriate technology , as well as international operational and safety standards for humanitarian mine - action activities , and in this context welcomes the initiation of the revision of international mine - clearance standards and the development of guidelines for the use of mine - detection xxunk and xxunk mine - clearance equipment , as well as the development of an international test and evaluation programme ;</td>\n",
              "    </tr>\n",
              "  </tbody>\n",
              "</table>"
            ],
            "text/plain": [
              "<IPython.core.display.HTML object>"
            ]
          },
          "metadata": {
            "tags": []
          }
        }
      ]
    },
    {
      "cell_type": "markdown",
      "metadata": {
        "id": "oDnelgzD-A6y",
        "colab_type": "text"
      },
      "source": [
        "### Model Creation"
      ]
    },
    {
      "cell_type": "code",
      "metadata": {
        "id": "sB4NmgFB91qa",
        "colab_type": "code",
        "colab": {
          "base_uri": "https://localhost:8080/",
          "height": 253
        },
        "outputId": "8134772a-c912-40df-eb0a-325d3c182e9d"
      },
      "source": [
        "# Downloading Embeddings from fastext\n",
        "!pip install fasttext"
      ],
      "execution_count": 52,
      "outputs": [
        {
          "output_type": "stream",
          "text": [
            "Collecting fasttext\n",
            "\u001b[?25l  Downloading https://files.pythonhosted.org/packages/f8/85/e2b368ab6d3528827b147fdb814f8189acc981a4bc2f99ab894650e05c40/fasttext-0.9.2.tar.gz (68kB)\n",
            "\r\u001b[K     |████▊                           | 10kB 15.8MB/s eta 0:00:01\r\u001b[K     |█████████▌                      | 20kB 1.7MB/s eta 0:00:01\r\u001b[K     |██████████████▎                 | 30kB 2.3MB/s eta 0:00:01\r\u001b[K     |███████████████████             | 40kB 2.5MB/s eta 0:00:01\r\u001b[K     |███████████████████████▉        | 51kB 2.0MB/s eta 0:00:01\r\u001b[K     |████████████████████████████▋   | 61kB 2.3MB/s eta 0:00:01\r\u001b[K     |████████████████████████████████| 71kB 2.0MB/s \n",
            "\u001b[?25hRequirement already satisfied: pybind11>=2.2 in /usr/local/lib/python3.6/dist-packages (from fasttext) (2.5.0)\n",
            "Requirement already satisfied: setuptools>=0.7.0 in /usr/local/lib/python3.6/dist-packages (from fasttext) (47.1.1)\n",
            "Requirement already satisfied: numpy in /usr/local/lib/python3.6/dist-packages (from fasttext) (1.18.5)\n",
            "Building wheels for collected packages: fasttext\n",
            "  Building wheel for fasttext (setup.py) ... \u001b[?25l\u001b[?25hdone\n",
            "  Created wheel for fasttext: filename=fasttext-0.9.2-cp36-cp36m-linux_x86_64.whl size=3019416 sha256=4e2d608a26b5a0fff7a85b454ea3c4635c987834fcf622b4af1cf456922d572e\n",
            "  Stored in directory: /root/.cache/pip/wheels/98/ba/7f/b154944a1cf5a8cee91c154b75231136cc3a3321ab0e30f592\n",
            "Successfully built fasttext\n",
            "Installing collected packages: fasttext\n",
            "Successfully installed fasttext-0.9.2\n"
          ],
          "name": "stdout"
        }
      ]
    },
    {
      "cell_type": "code",
      "metadata": {
        "id": "595RUrdm--43",
        "colab_type": "code",
        "colab": {}
      },
      "source": [
        "from fasttext import FastText as ft"
      ],
      "execution_count": 20,
      "outputs": []
    },
    {
      "cell_type": "code",
      "metadata": {
        "id": "Dzj3XlLn_c2I",
        "colab_type": "code",
        "colab": {
          "base_uri": "https://localhost:8080/",
          "height": 401
        },
        "outputId": "957c0dfa-783c-4c05-b070-c2ea04d3987a"
      },
      "source": [
        "# Downloading Pretrained Word Embedding for both languages\n",
        "! wget https://dl.fbaipublicfiles.com/fasttext/vectors-crawl/cc.en.300.bin.gz -P {path}\n",
        "! wget https://dl.fbaipublicfiles.com/fasttext/vectors-crawl/cc.es.300.bin.gz -P {path}"
      ],
      "execution_count": 56,
      "outputs": [
        {
          "output_type": "stream",
          "text": [
            "--2020-06-17 06:37:09--  https://dl.fbaipublicfiles.com/fasttext/vectors-crawl/cc.en.300.bin.gz\n",
            "Resolving dl.fbaipublicfiles.com (dl.fbaipublicfiles.com)... 172.67.9.4, 104.22.74.142, 104.22.75.142, ...\n",
            "Connecting to dl.fbaipublicfiles.com (dl.fbaipublicfiles.com)|172.67.9.4|:443... connected.\n",
            "HTTP request sent, awaiting response... 200 OK\n",
            "Length: 4503593528 (4.2G) [application/octet-stream]\n",
            "Saving to: ‘/content/drive/My Drive/cc.en.300.bin.gz’\n",
            "\n",
            "cc.en.300.bin.gz    100%[===================>]   4.19G  12.4MB/s    in 5m 49s  \n",
            "\n",
            "2020-06-17 06:42:58 (12.3 MB/s) - ‘/content/drive/My Drive/cc.en.300.bin.gz’ saved [4503593528/4503593528]\n",
            "\n",
            "--2020-06-17 06:43:01--  https://dl.fbaipublicfiles.com/fasttext/vectors-crawl/cc.es.300.bin.gz\n",
            "Resolving dl.fbaipublicfiles.com (dl.fbaipublicfiles.com)... 104.22.74.142, 172.67.9.4, 104.22.75.142, ...\n",
            "Connecting to dl.fbaipublicfiles.com (dl.fbaipublicfiles.com)|104.22.74.142|:443... connected.\n",
            "HTTP request sent, awaiting response... 200 OK\n",
            "Length: 4500107671 (4.2G) [application/octet-stream]\n",
            "Saving to: ‘/content/drive/My Drive/cc.es.300.bin.gz’\n",
            "\n",
            "cc.es.300.bin.gz    100%[===================>]   4.19G  12.0MB/s    in 6m 24s  \n",
            "\n",
            "2020-06-17 06:49:26 (11.2 MB/s) - ‘/content/drive/My Drive/cc.es.300.bin.gz’ saved [4500107671/4500107671]\n",
            "\n"
          ],
          "name": "stdout"
        }
      ]
    },
    {
      "cell_type": "code",
      "metadata": {
        "id": "Vjs5waru_jmo",
        "colab_type": "code",
        "colab": {}
      },
      "source": [
        "!gunzip '/content/drive/My Drive/cc.en.300.bin.gz' > '/content/cc.en.300.bin'\n",
        "!gunzip '/content/drive/My Drive/cc.es.300.bin.gz' >  '/content/cc.es.300.bin'"
      ],
      "execution_count": 16,
      "outputs": []
    },
    {
      "cell_type": "code",
      "metadata": {
        "id": "qpABdQkIGCSR",
        "colab_type": "code",
        "colab": {}
      },
      "source": [
        "#es_vecs = ft.load_model('/content/cc.es.300.bin')\n",
        "#en_vecs = ft.load_model('/content/cc.en.300.bin')"
      ],
      "execution_count": 22,
      "outputs": []
    },
    {
      "cell_type": "code",
      "metadata": {
        "id": "cXVzvQvUHPuE",
        "colab_type": "code",
        "colab": {}
      },
      "source": [
        ""
      ],
      "execution_count": null,
      "outputs": []
    }
  ]
}