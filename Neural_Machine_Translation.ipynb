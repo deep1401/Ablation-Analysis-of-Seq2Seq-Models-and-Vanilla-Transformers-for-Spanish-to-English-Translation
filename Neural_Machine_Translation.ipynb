{
  "nbformat": 4,
  "nbformat_minor": 0,
  "metadata": {
    "colab": {
      "name": "Neural Machine Translation.ipynb",
      "provenance": [],
      "collapsed_sections": [],
      "toc_visible": true
    },
    "kernelspec": {
      "name": "python3",
      "display_name": "Python 3"
    },
    "accelerator": "GPU"
  },
  "cells": [
    {
      "cell_type": "code",
      "metadata": {
        "id": "CTEWHW0-p-u1",
        "colab_type": "code",
        "colab": {}
      },
      "source": [
        "%reload_ext autoreload\n",
        "%autoreload 2\n",
        "%matplotlib inline"
      ],
      "execution_count": 2,
      "outputs": []
    },
    {
      "cell_type": "code",
      "metadata": {
        "id": "9kDN2DyBu4zj",
        "colab_type": "code",
        "colab": {}
      },
      "source": [
        "from bs4 import BeautifulSoup\n",
        "import pandas as pd\n",
        "from fastai.text import *"
      ],
      "execution_count": 3,
      "outputs": []
    },
    {
      "cell_type": "code",
      "metadata": {
        "id": "YI3M0mITry48",
        "colab_type": "code",
        "colab": {}
      },
      "source": [
        "with open('/content/en-es.tmx',mode='r') as f:\n",
        "  text = f.read()\n",
        "  f.close()"
      ],
      "execution_count": null,
      "outputs": []
    },
    {
      "cell_type": "code",
      "metadata": {
        "id": "XX-p-_fm6mdX",
        "colab_type": "code",
        "colab": {}
      },
      "source": [
        "path = '/content/drive/My\\ Drive/'"
      ],
      "execution_count": 4,
      "outputs": []
    },
    {
      "cell_type": "code",
      "metadata": {
        "id": "x1STmdpluhsB",
        "colab_type": "code",
        "colab": {
          "base_uri": "https://localhost:8080/",
          "height": 319
        },
        "outputId": "6349461c-cb14-4feb-e361-1b4bac691cec"
      },
      "source": [
        "print(text[:500])"
      ],
      "execution_count": null,
      "outputs": [
        {
          "output_type": "stream",
          "text": [
            "<?xml version=\"1.0\" encoding=\"UTF-8\" ?>\n",
            "<tmx version=\"1.4\">\n",
            "<header creationdate=\"Sun Mar  4 00:54:42 2018\"\n",
            "          srclang=\"en\"\n",
            "          adminlang=\"en\"\n",
            "          o-tmf=\"unknown\"\n",
            "          segtype=\"sentence\"\n",
            "          creationtool=\"Uplug\"\n",
            "          creationtoolversion=\"unknown\"\n",
            "          datatype=\"PlainText\" />\n",
            "  <body>\n",
            "    <tu>\n",
            "      <tuv xml:lang=\"en\"><seg>RESOLUTION 55/100</seg></tuv>\n",
            "      <tuv xml:lang=\"es\"><seg>RESOLUCIÓN 55/100</seg></tuv>\n",
            "    </tu>\n",
            "    <tu>\n",
            "      <tuv xml:lang=\"en\"><s\n"
          ],
          "name": "stdout"
        }
      ]
    },
    {
      "cell_type": "code",
      "metadata": {
        "id": "jv9e1MHjujR9",
        "colab_type": "code",
        "colab": {
          "base_uri": "https://localhost:8080/",
          "height": 120
        },
        "outputId": "ad61c146-c410-44d8-ff95-22607d412103"
      },
      "source": [
        "soup = BeautifulSoup(text,'html.parser')\n",
        "row = soup.find('tu')\n",
        "print(row)\n",
        "\n",
        "x = [i for i in row.get_text().split('\\n') if i!='']\n",
        "print(x)"
      ],
      "execution_count": null,
      "outputs": [
        {
          "output_type": "stream",
          "text": [
            "<tu>\n",
            "<tuv xml:lang=\"en\"><seg>RESOLUTION 55/100</seg></tuv>\n",
            "<tuv xml:lang=\"es\"><seg>RESOLUCIÓN 55/100</seg></tuv>\n",
            "</tu>\n",
            "['RESOLUTION 55/100', 'RESOLUCIÓN 55/100']\n"
          ],
          "name": "stdout"
        }
      ]
    },
    {
      "cell_type": "code",
      "metadata": {
        "id": "YfOjIE9MvR5f",
        "colab_type": "code",
        "colab": {}
      },
      "source": [
        "text_list = []\n",
        "rows = soup.find_all('tu')\n",
        "for row in rows:\n",
        "  x = [i for i in row.get_text().split('\\n') if i!='']\n",
        "  text_list.append(x)"
      ],
      "execution_count": null,
      "outputs": []
    },
    {
      "cell_type": "code",
      "metadata": {
        "id": "FAo-80WZwfBC",
        "colab_type": "code",
        "colab": {}
      },
      "source": [
        "df = pd.DataFrame(text_list)"
      ],
      "execution_count": null,
      "outputs": []
    },
    {
      "cell_type": "code",
      "metadata": {
        "id": "-POoTod3wtGn",
        "colab_type": "code",
        "colab": {
          "base_uri": "https://localhost:8080/",
          "height": 221
        },
        "outputId": "16b00d34-4444-4ece-b67f-030dde35ae1d"
      },
      "source": [
        "df.head()"
      ],
      "execution_count": null,
      "outputs": [
        {
          "output_type": "execute_result",
          "data": {
            "text/html": [
              "<div>\n",
              "<style scoped>\n",
              "    .dataframe tbody tr th:only-of-type {\n",
              "        vertical-align: middle;\n",
              "    }\n",
              "\n",
              "    .dataframe tbody tr th {\n",
              "        vertical-align: top;\n",
              "    }\n",
              "\n",
              "    .dataframe thead th {\n",
              "        text-align: right;\n",
              "    }\n",
              "</style>\n",
              "<table border=\"1\" class=\"dataframe\">\n",
              "  <thead>\n",
              "    <tr style=\"text-align: right;\">\n",
              "      <th></th>\n",
              "      <th>Unnamed: 0</th>\n",
              "      <th>en</th>\n",
              "      <th>es</th>\n",
              "    </tr>\n",
              "  </thead>\n",
              "  <tbody>\n",
              "    <tr>\n",
              "      <th>0</th>\n",
              "      <td>0</td>\n",
              "      <td>resolution 55/100</td>\n",
              "      <td>resolución 55/100</td>\n",
              "    </tr>\n",
              "    <tr>\n",
              "      <th>1</th>\n",
              "      <td>1</td>\n",
              "      <td>adopted at the 81st plenary meeting, on 4 dece...</td>\n",
              "      <td>aprobada en la 81a. sesión plenaria, celebrada...</td>\n",
              "    </tr>\n",
              "    <tr>\n",
              "      <th>2</th>\n",
              "      <td>2</td>\n",
              "      <td>in favour: afghanistan, algeria, angola, antig...</td>\n",
              "      <td>votos a favor: afganistán, angola, antigua y b...</td>\n",
              "    </tr>\n",
              "    <tr>\n",
              "      <th>3</th>\n",
              "      <td>3</td>\n",
              "      <td>abstentions: albania, andorra, australia, aust...</td>\n",
              "      <td>abstenciones: albania, alemania, andorra, aust...</td>\n",
              "    </tr>\n",
              "    <tr>\n",
              "      <th>4</th>\n",
              "      <td>4</td>\n",
              "      <td>55/100. respect for the right to universal fre...</td>\n",
              "      <td>55/100. respeto del derecho a la libertad univ...</td>\n",
              "    </tr>\n",
              "  </tbody>\n",
              "</table>\n",
              "</div>"
            ],
            "text/plain": [
              "   Unnamed: 0  ...                                                 es\n",
              "0           0  ...                                  resolución 55/100\n",
              "1           1  ...  aprobada en la 81a. sesión plenaria, celebrada...\n",
              "2           2  ...  votos a favor: afganistán, angola, antigua y b...\n",
              "3           3  ...  abstenciones: albania, alemania, andorra, aust...\n",
              "4           4  ...  55/100. respeto del derecho a la libertad univ...\n",
              "\n",
              "[5 rows x 3 columns]"
            ]
          },
          "metadata": {
            "tags": []
          },
          "execution_count": 55
        }
      ]
    },
    {
      "cell_type": "code",
      "metadata": {
        "id": "uBwxTlr_yXbV",
        "colab_type": "code",
        "colab": {}
      },
      "source": [
        "df.columns = ['en','es']"
      ],
      "execution_count": null,
      "outputs": []
    },
    {
      "cell_type": "code",
      "metadata": {
        "id": "_7IAVT5xzdky",
        "colab_type": "code",
        "colab": {}
      },
      "source": [
        "df.drop(8506,axis=0,inplace=True)"
      ],
      "execution_count": null,
      "outputs": []
    },
    {
      "cell_type": "code",
      "metadata": {
        "id": "tScNpce7ykZV",
        "colab_type": "code",
        "colab": {}
      },
      "source": [
        "df.to_csv('/content/drive/My Drive/translation_data.csv')"
      ],
      "execution_count": null,
      "outputs": []
    },
    {
      "cell_type": "code",
      "metadata": {
        "id": "-oAQgGg_5vO9",
        "colab_type": "code",
        "colab": {}
      },
      "source": [
        "df = pd.read_csv('/content/drive/My Drive/translation_data.csv')"
      ],
      "execution_count": 36,
      "outputs": []
    },
    {
      "cell_type": "markdown",
      "metadata": {
        "id": "nho3Ozncz7uU",
        "colab_type": "text"
      },
      "source": [
        "### Pre Processing"
      ]
    },
    {
      "cell_type": "code",
      "metadata": {
        "id": "sKjETKiUypML",
        "colab_type": "code",
        "colab": {}
      },
      "source": [
        "df['en'] = df['en'].apply(lambda x:x.lower())\n",
        "df['es'] = df['es'].apply(lambda x:x.lower())"
      ],
      "execution_count": 37,
      "outputs": []
    },
    {
      "cell_type": "code",
      "metadata": {
        "id": "IEH6ZSt0zaaA",
        "colab_type": "code",
        "colab": {}
      },
      "source": [
        "def seq2seq_collate(samples, pad_idx=1, pad_first=True, backwards=False):\n",
        "    \"Function that collect samples and adds padding. Flips token order if needed\"\n",
        "    samples = to_data(samples)\n",
        "    max_len_x,max_len_y = max([len(s[0]) for s in samples]),max([len(s[1]) for s in samples])\n",
        "    res_x = torch.zeros(len(samples), max_len_x).long() + pad_idx\n",
        "    res_y = torch.zeros(len(samples), max_len_y).long() + pad_idx\n",
        "    if backwards: pad_first = not pad_first\n",
        "    for i,s in enumerate(samples):\n",
        "        if pad_first: \n",
        "            res_x[i,-len(s[0]):],res_y[i,-len(s[1]):] = LongTensor(s[0]),LongTensor(s[1])\n",
        "        else:         \n",
        "            res_x[i,:len(s[0]):],res_y[i,:len(s[1]):] = LongTensor(s[0]),LongTensor(s[1])\n",
        "    if backwards: res_x,res_y = res_x.flip(1),res_y.flip(1)\n",
        "    return res_x,res_y"
      ],
      "execution_count": 5,
      "outputs": []
    },
    {
      "cell_type": "code",
      "metadata": {
        "id": "fTaQb4yL1Wat",
        "colab_type": "code",
        "colab": {}
      },
      "source": [
        "class Seq2SeqDataBunch(TextDataBunch):\n",
        "    \"Create a `TextDataBunch` suitable for training an RNN classifier.\"\n",
        "    @classmethod\n",
        "    def create(cls, train_ds, valid_ds, test_ds=None, path:PathOrStr='.', bs:int=32, val_bs:int=None, pad_idx=1,\n",
        "               dl_tfms=None, pad_first=False, device:torch.device=None, no_check:bool=False, backwards:bool=False, **dl_kwargs) -> DataBunch:\n",
        "        \"Function that transform the `datasets` in a `DataBunch` for classification. Passes `**dl_kwargs` on to `DataLoader()`\"\n",
        "        datasets = cls._init_ds(train_ds, valid_ds, test_ds)\n",
        "        val_bs = ifnone(val_bs, bs)\n",
        "        collate_fn = partial(seq2seq_collate, pad_idx=pad_idx, pad_first=pad_first, backwards=backwards)\n",
        "        train_sampler = SortishSampler(datasets[0].x, key=lambda t: len(datasets[0][t][0].data), bs=bs//2)\n",
        "        train_dl = DataLoader(datasets[0], batch_size=bs, sampler=train_sampler, drop_last=True, **dl_kwargs)\n",
        "        dataloaders = [train_dl]\n",
        "        for ds in datasets[1:]:\n",
        "            lengths = [len(t) for t in ds.x.items]\n",
        "            sampler = SortSampler(ds.x, key=lengths.__getitem__)\n",
        "            dataloaders.append(DataLoader(ds, batch_size=val_bs, sampler=sampler, **dl_kwargs))\n",
        "        return cls(*dataloaders, path=path, device=device, collate_fn=collate_fn, no_check=no_check)\n"
      ],
      "execution_count": 6,
      "outputs": []
    },
    {
      "cell_type": "code",
      "metadata": {
        "id": "CFlfo11y6HqB",
        "colab_type": "code",
        "colab": {}
      },
      "source": [
        "class Seq2SeqTextList(TextList):\n",
        "  _bunch = Seq2SeqDataBunch\n",
        "  _label_cls = TextList"
      ],
      "execution_count": 7,
      "outputs": []
    },
    {
      "cell_type": "code",
      "metadata": {
        "id": "PK4aW_X46Uzh",
        "colab_type": "code",
        "colab": {
          "base_uri": "https://localhost:8080/",
          "height": 38
        },
        "outputId": "74157533-833f-416a-b7b0-48a9cd1c1032"
      },
      "source": [
        "src = Seq2SeqTextList.from_df(df,path=path,cols = 'es').split_by_rand_pct(seed=42).label_from_df(cols='en',label_cls=TextList)"
      ],
      "execution_count": 41,
      "outputs": [
        {
          "output_type": "display_data",
          "data": {
            "text/html": [
              ""
            ],
            "text/plain": [
              "<IPython.core.display.HTML object>"
            ]
          },
          "metadata": {
            "tags": []
          }
        },
        {
          "output_type": "display_data",
          "data": {
            "text/html": [
              ""
            ],
            "text/plain": [
              "<IPython.core.display.HTML object>"
            ]
          },
          "metadata": {
            "tags": []
          }
        },
        {
          "output_type": "display_data",
          "data": {
            "text/html": [
              ""
            ],
            "text/plain": [
              "<IPython.core.display.HTML object>"
            ]
          },
          "metadata": {
            "tags": []
          }
        },
        {
          "output_type": "display_data",
          "data": {
            "text/html": [
              ""
            ],
            "text/plain": [
              "<IPython.core.display.HTML object>"
            ]
          },
          "metadata": {
            "tags": []
          }
        }
      ]
    },
    {
      "cell_type": "code",
      "metadata": {
        "id": "OzAE8ksn6-XU",
        "colab_type": "code",
        "colab": {
          "base_uri": "https://localhost:8080/",
          "height": 54
        },
        "outputId": "f01928c0-1779-4619-9695-c6aa891366a8"
      },
      "source": [
        "np.percentile([len(o) for o in src.train.x.items] + [len(o) for o in src.valid.x.items], 90)"
      ],
      "execution_count": 42,
      "outputs": [
        {
          "output_type": "execute_result",
          "data": {
            "text/plain": [
              "114.0"
            ]
          },
          "metadata": {
            "tags": []
          },
          "execution_count": 42
        }
      ]
    },
    {
      "cell_type": "code",
      "metadata": {
        "id": "x1bysIv17Ga4",
        "colab_type": "code",
        "colab": {
          "base_uri": "https://localhost:8080/",
          "height": 54
        },
        "outputId": "706c7aa0-5ae6-4560-d3c6-cdcea378bf99"
      },
      "source": [
        "np.percentile([len(o) for o in src.train.y.items] + [len(o) for o in src.valid.y.items], 90)"
      ],
      "execution_count": 43,
      "outputs": [
        {
          "output_type": "execute_result",
          "data": {
            "text/plain": [
              "101.0"
            ]
          },
          "metadata": {
            "tags": []
          },
          "execution_count": 43
        }
      ]
    },
    {
      "cell_type": "code",
      "metadata": {
        "id": "xAMU6Uxc71EF",
        "colab_type": "code",
        "colab": {}
      },
      "source": [
        "src = src.filter_by_func(lambda x,y:len(x) > 120 or len(y) > 120)"
      ],
      "execution_count": 44,
      "outputs": []
    },
    {
      "cell_type": "code",
      "metadata": {
        "id": "YYGbeehud_4S",
        "colab_type": "code",
        "colab": {}
      },
      "source": [
        "xb,yb = next(iter(data.train_dl))"
      ],
      "execution_count": null,
      "outputs": []
    },
    {
      "cell_type": "code",
      "metadata": {
        "id": "X4sem4YmeCLo",
        "colab_type": "code",
        "colab": {
          "base_uri": "https://localhost:8080/",
          "height": 54
        },
        "outputId": "54c4829e-0609-43e6-a859-eb67d7700a55"
      },
      "source": [
        "yb.shape"
      ],
      "execution_count": null,
      "outputs": [
        {
          "output_type": "execute_result",
          "data": {
            "text/plain": [
              "torch.Size([64, 30])"
            ]
          },
          "metadata": {
            "tags": []
          },
          "execution_count": 56
        }
      ]
    },
    {
      "cell_type": "code",
      "metadata": {
        "id": "ibkIbywo8nXR",
        "colab_type": "code",
        "colab": {}
      },
      "source": [
        "data = src.databunch()"
      ],
      "execution_count": 45,
      "outputs": []
    },
    {
      "cell_type": "code",
      "metadata": {
        "id": "b9nDDBjTM6yC",
        "colab_type": "code",
        "colab": {
          "base_uri": "https://localhost:8080/",
          "height": 54
        },
        "outputId": "574b396e-3cdc-4eb1-e7a6-bfa85db482a7"
      },
      "source": [
        "len(src.train + src.valid)"
      ],
      "execution_count": 46,
      "outputs": [
        {
          "output_type": "execute_result",
          "data": {
            "text/plain": [
              "7786"
            ]
          },
          "metadata": {
            "tags": []
          },
          "execution_count": 46
        }
      ]
    },
    {
      "cell_type": "code",
      "metadata": {
        "id": "sLPQmYvc8rXw",
        "colab_type": "code",
        "colab": {}
      },
      "source": [
        "data.save('/content/drive/My Drive/data_save.pkl')"
      ],
      "execution_count": 47,
      "outputs": []
    },
    {
      "cell_type": "code",
      "metadata": {
        "id": "wF0auEq09Y5v",
        "colab_type": "code",
        "colab": {
          "base_uri": "https://localhost:8080/",
          "height": 319
        },
        "outputId": "d3c7868e-a730-4d07-a9e0-1eaba827836d"
      },
      "source": [
        "data"
      ],
      "execution_count": 9,
      "outputs": [
        {
          "output_type": "execute_result",
          "data": {
            "text/plain": [
              "Seq2SeqDataBunch;\n",
              "\n",
              "Train: LabelList (6242 items)\n",
              "x: Seq2SeqTextList\n",
              "xxbos resolución 55 / 100,xxbos aprobada en la 81a . sesión plenaria , celebrada el 4 de diciembre de 2000 , por recomendación de la comisión ( a / 55 / 602 / add.2 , párr . 94),el proyecto de resolución recomendado en el informe fue patrocinado en la comisión por los países siguientes : bolivia , cuba , el salvador , ghana y honduras . en votación registrada de 106 votos contra uno y 67 abstenciones , como sigue :,xxbos 55 / 100 . respeto del derecho a la libertad universal de xxunk e importancia vital de la reunificación de las familias,xxbos recordando las disposiciones de la declaración universal de derechos humanosresolución 217 a ( iii ) . , y el artículo 12 del pacto internacional de derechos civiles y políticosvéase resolución 2200 a ( xxi ) , anexo . ,,xxbos subrayando que , conforme se declara en el programa de acción de la conferencia internacional sobre la población y el desarrolloinforme de la conferencia internacional sobre la población y el desarrollo , el cairo , 5 a 13 de septiembre de 1994 ( publicación de las naciones unidas , número de venta : s.95.xiii.18 ) , cap . i , resolución 1 , anexo . , la reunificación de las familias de los migrantes documentados es un factor importante en las migraciones internacionales y que las remesas de los migrantes documentados a sus países de origen constituyen a xxunk una fuente muy importante de xxunk y contribuyen al bienestar de los familiares que xxunk xxunk ,\n",
              "y: TextList\n",
              "xxbos resolution 55 / 100,xxbos adopted at the 81st plenary meeting , on 4 december 2000 , on the recommendation of the committee ( a / 55 / 602 / add.2 and corr.1 , para . 94),the draft resolution recommended in the report was sponsored in the committee by : bolivia , cuba , el salvador , ghana and honduras . by a recorded vote of 106 to 1 , with 67 abstentions , as follows :,xxbos 55 / 100 . respect for the right to universal freedom of travel and the vital importance of family reunification,xxbos recalling the provisions of the universal declaration of human rights , resolution 217 a ( iii ) . as well as article 12 of the international covenant on civil and political rights , see resolution 2200 a ( xxi ) , annex .,xxbos stressing that , as stated in the programme of action of the international conference on population and development , report of the international conference on population and development , cairo , 5 - 13 september 1994 ( united nations publication , sales no . e.95.xiii.18 ) , chap . i , resolution 1 , annex . family reunification of documented migrants is an important factor in international migration and that xxunk by documented migrants to their countries of origin often constitute a very important source of foreign exchange and are xxunk in improving the well - being of relatives xxunk xxunk ,\n",
              "Path: /content/drive/My\\ Drive;\n",
              "\n",
              "Valid: LabelList (1544 items)\n",
              "x: Seq2SeqTextList\n",
              "xxbos 6 . acoge con satisfacción la labor xxunk a cabo en el plano regional y en estrecha colaboración con las respectivas comisiones regionales a fin de ejecutar los programas de acción para el desarrollo sostenible que podrían xxunk aportaciones xxunk al proceso preparatorio y a la propia cumbre ;,xxbos observando con reconocimiento la evaluación realizada por el secretario general de la aplicación de los resultados de las principales conferencias y cumbres de las naciones unidas en lo relativo a la promoción de los derechos y el bienestar de las personas con discapacidad , asegurando su plena participación e igualdad , así como las medidas adoptadas por el sistema de las naciones unidas para prevenir las condiciones de xxunk a / 56 / 169 y corr.1 , párrs . 25 y 26 . ,,xxbos 7 . pide también al secretario general que xxunk movilizar los recursos financieros necesarios para mantener al instituto xxunk del personal básico del cuadro orgánico que necesita para poder xxunk con eficacia en el cumplimiento de las obligaciones xxunk en su mandato ;,xxbos resolución 55 / 99,xxbos 9 . pide a los organismos especializados y a las demás organizaciones competentes del sistema de las naciones unidas que proporcionen información sobre :\n",
              "y: TextList\n",
              "xxbos 6 . welcomes the work undertaken at the regional level , in close collaboration with the respective regional commissions , to implement action programmes for sustainable development that could provide substantive inputs to the preparatory process and the summit itself ;,xxbos noting with appreciation the assessment by the secretary - general of the implementation of the outcomes of major united nations conferences and summits to promote the rights and well - being of persons with disabilities , ensuring their full participation and equality , as well as the measures undertaken by the united nations system aimed at preventing xxunk conditions , see a / 56 / 169 and corr.1 , paras . 25 and 26 .,xxbos 7 . also requests the secretary - general to xxunk his efforts to mobilize the financial resources necessary to maintain the institute with the core professional staff required to enable it to function effectively in the fulfilment of its mandated obligations ;,xxbos resolution 55 / 99,xxbos 9 . requests the specialized agencies and other organizations of the united nations system concerned to provide information on :\n",
              "Path: /content/drive/My\\ Drive;\n",
              "\n",
              "Test: None"
            ]
          },
          "metadata": {
            "tags": []
          },
          "execution_count": 9
        }
      ]
    },
    {
      "cell_type": "code",
      "metadata": {
        "id": "sCfQ3gqm9q9m",
        "colab_type": "code",
        "colab": {}
      },
      "source": [
        "data = load_data('/content/drive/My Drive')"
      ],
      "execution_count": 8,
      "outputs": []
    },
    {
      "cell_type": "code",
      "metadata": {
        "id": "qPZ9UgPE9xdW",
        "colab_type": "code",
        "colab": {
          "base_uri": "https://localhost:8080/",
          "height": 882
        },
        "outputId": "96dce6cb-9e31-401d-e004-419c308ebd9d"
      },
      "source": [
        "data.show_batch()"
      ],
      "execution_count": 49,
      "outputs": [
        {
          "output_type": "display_data",
          "data": {
            "text/html": [
              "<table border=\"1\" class=\"dataframe\">\n",
              "  <thead>\n",
              "    <tr style=\"text-align: right;\">\n",
              "      <th>text</th>\n",
              "      <th>target</th>\n",
              "    </tr>\n",
              "  </thead>\n",
              "  <tbody>\n",
              "    <tr>\n",
              "      <td>xxbos 12 . insta a los estados a que adopten medidas especiales para proteger , en particular a las niñas afectadas por la guerra de las enfermedades de transmisión sexual , como el virus de la inmunodeficiencia humana y el síndrome de inmunodeficiencia adquirida y de la violencia que tiene su origen en el género , como la violación y el abuso sexual , la tortura , la explotación sexual</td>\n",
              "      <td>xxbos 12 . urges states to take special measures for the protection of war - affected girls and in particular to protect them from sexually transmitted diseases , such as human immunodeficiency virus / acquired immunodeficiency syndrome , and gender - based violence , including rape and sexual abuse , torture , sexual exploitation , abduction and forced labour , paying special attention to refugee and displaced girls , and to take into account the special needs of the war - affected girl child in the delivery of humanitarian assistance and disarmament , demobilization and reintegration processes ;</td>\n",
              "    </tr>\n",
              "    <tr>\n",
              "      <td>xxbos recordando el reconocimiento mutuo entre el gobierno del estado de israel y la organización de liberación de palestina , la representante del pueblo palestino , y la firma por ambas partes de la declaración de principios sobre las disposiciones relacionadas con un gobierno autónomo provisional , en washington , d.c . , el 13 de septiembre de 1993a / 48 / 486-s / 26560 , anexo . , así</td>\n",
              "      <td>xxbos recalling the mutual recognition between the government of the state of israel and the palestine liberation organization , the representative of the palestinian people , and the signing by the two parties of the declaration of principles on interim self - government arrangements in washington , d.c . , on 13 september 1993,a / 48 / 486-s / 26560 , annex . as well as the subsequent implementation agreements , including the israeli - palestinian interim agreement on the west bank and the gaza strip , signed in washington , d.c . , on 28 september 1995,a / 51 / 889-s / 1997 / 357 , annex .</td>\n",
              "    </tr>\n",
              "    <tr>\n",
              "      <td>xxbos reconociendo la función de la comisión de ciencia y tecnología para el desarrollo en la coordinación de las actividades del sistema de las naciones unidas en la esfera de la ciencia y la tecnología para el desarrollo , tomando nota de la labor que realiza la comisión en su programa de trabajo para los estados miembros , especialmente los países en desarrollo , y su labor con algunos países</td>\n",
              "      <td>xxbos recognizing the role of the commission on science and technology for development in coordinating the activities of the united nations system in the area of science and technology for development , noting the work being undertaken by the commission in its work programme for member states , especially the developing countries , and its work with some countries with economies in transition , emphasizing the importance of the activities that are to be pursued within the framework of the commission , including a broad xxunk of new global challenges in science and technology , and encouraging support for those undertakings ,</td>\n",
              "    </tr>\n",
              "    <tr>\n",
              "      <td>xxbos aprobada en la 87a . sesión plenaria , celebrada el 20 de diciembre de 2000 , sin votación , por recomendación de la comisión ( a / 55 / 579 / add.1 , párr . 11)el proyecto de resolución recomendado en el informe fue patrocinado en la comisión por los países siguientes : afganistán , armenia , azerbaiyán , belarús , bulgaria , burkina faso , ex república yugoslava</td>\n",
              "      <td>xxbos adopted at the 87th plenary meeting , on 20 december 2000 , without a vote , on the recommendation of the committee ( a / 55 / 579 / add.1 , para . 11)the draft resolution recommended in the report was sponsored in the committee by : afghanistan , armenia , azerbaijan , belarus , bulgaria , burkina faso , georgia , iran ( islamic republic of ) , kazakhstan , kyrgyzstan , lao people 's democratic republic , mongolia , paraguay , philippines , poland , republic of moldova , romania , russian federation , swaziland , tajikistan , the former yugoslav republic of macedonia , turkey , turkmenistan and ukraine .</td>\n",
              "    </tr>\n",
              "    <tr>\n",
              "      <td>xxbos a ) informar , xxunk y hacer comprender al público de manera concreta , equilibrada y objetiva la importancia de las medidas multilaterales en la esfera de la limitación de armamentos y el desarme , en particular de las medidas adoptadas por las naciones unidas y la conferencia de desarme , y del apoyo a esas medidas y , entre otras cosas , de que se sigan publicando ,</td>\n",
              "      <td>xxbos ( a ) to inform , to xxunk and to xxunk public understanding of the importance of multilateral action and support for it , including action by the united nations and the conference on disarmament , in the field of arms limitation and disarmament , in a factual , balanced and objective manner , and , inter alia , to continue to publish in all official languages the united nations disarmament yearbook , periodic hard copy and regular electronic xxunk of the status of multilateral arms regulation and disarmament agreements and ad hoc publications in hard copy and electronic form ;</td>\n",
              "    </tr>\n",
              "  </tbody>\n",
              "</table>"
            ],
            "text/plain": [
              "<IPython.core.display.HTML object>"
            ]
          },
          "metadata": {
            "tags": []
          }
        }
      ]
    },
    {
      "cell_type": "markdown",
      "metadata": {
        "id": "oDnelgzD-A6y",
        "colab_type": "text"
      },
      "source": [
        "### Embedding Model"
      ]
    },
    {
      "cell_type": "code",
      "metadata": {
        "id": "sB4NmgFB91qa",
        "colab_type": "code",
        "colab": {
          "base_uri": "https://localhost:8080/",
          "height": 253
        },
        "outputId": "6fb1128a-50f5-4204-97a9-8e9ae2b645a1"
      },
      "source": [
        "# Downloading Embeddings from fastext\n",
        "!pip install fasttext"
      ],
      "execution_count": 50,
      "outputs": [
        {
          "output_type": "stream",
          "text": [
            "Collecting fasttext\n",
            "\u001b[?25l  Downloading https://files.pythonhosted.org/packages/f8/85/e2b368ab6d3528827b147fdb814f8189acc981a4bc2f99ab894650e05c40/fasttext-0.9.2.tar.gz (68kB)\n",
            "\r\u001b[K     |████▊                           | 10kB 26.1MB/s eta 0:00:01\r\u001b[K     |█████████▌                      | 20kB 2.8MB/s eta 0:00:01\r\u001b[K     |██████████████▎                 | 30kB 3.8MB/s eta 0:00:01\r\u001b[K     |███████████████████             | 40kB 4.1MB/s eta 0:00:01\r\u001b[K     |███████████████████████▉        | 51kB 3.2MB/s eta 0:00:01\r\u001b[K     |████████████████████████████▋   | 61kB 3.7MB/s eta 0:00:01\r\u001b[K     |████████████████████████████████| 71kB 2.8MB/s \n",
            "\u001b[?25hRequirement already satisfied: pybind11>=2.2 in /usr/local/lib/python3.6/dist-packages (from fasttext) (2.5.0)\n",
            "Requirement already satisfied: setuptools>=0.7.0 in /usr/local/lib/python3.6/dist-packages (from fasttext) (47.1.1)\n",
            "Requirement already satisfied: numpy in /usr/local/lib/python3.6/dist-packages (from fasttext) (1.18.5)\n",
            "Building wheels for collected packages: fasttext\n",
            "  Building wheel for fasttext (setup.py) ... \u001b[?25l\u001b[?25hdone\n",
            "  Created wheel for fasttext: filename=fasttext-0.9.2-cp36-cp36m-linux_x86_64.whl size=3013473 sha256=0e4a37a924dc9e7663dcf28104c35948ceeab0b4066fbe22f45c889968b818bb\n",
            "  Stored in directory: /root/.cache/pip/wheels/98/ba/7f/b154944a1cf5a8cee91c154b75231136cc3a3321ab0e30f592\n",
            "Successfully built fasttext\n",
            "Installing collected packages: fasttext\n",
            "Successfully installed fasttext-0.9.2\n"
          ],
          "name": "stdout"
        }
      ]
    },
    {
      "cell_type": "code",
      "metadata": {
        "id": "595RUrdm--43",
        "colab_type": "code",
        "colab": {}
      },
      "source": [
        "from fasttext import FastText as ft"
      ],
      "execution_count": 11,
      "outputs": []
    },
    {
      "cell_type": "code",
      "metadata": {
        "id": "Dzj3XlLn_c2I",
        "colab_type": "code",
        "colab": {
          "base_uri": "https://localhost:8080/",
          "height": 401
        },
        "outputId": "957c0dfa-783c-4c05-b070-c2ea04d3987a"
      },
      "source": [
        "# DON'T USE. VERY SHITTY METHOD\n",
        "\n",
        "# Downloading Pretrained Word Embedding for both languages \n",
        "#! wget https://dl.fbaipublicfiles.com/fasttext/vectors-crawl/cc.en.300.bin.gz -P {path}\n",
        "#! wget https://dl.fbaipublicfiles.com/fasttext/vectors-crawl/cc.es.300.bin.gz -P {path}"
      ],
      "execution_count": null,
      "outputs": [
        {
          "output_type": "stream",
          "text": [
            "--2020-06-17 06:37:09--  https://dl.fbaipublicfiles.com/fasttext/vectors-crawl/cc.en.300.bin.gz\n",
            "Resolving dl.fbaipublicfiles.com (dl.fbaipublicfiles.com)... 172.67.9.4, 104.22.74.142, 104.22.75.142, ...\n",
            "Connecting to dl.fbaipublicfiles.com (dl.fbaipublicfiles.com)|172.67.9.4|:443... connected.\n",
            "HTTP request sent, awaiting response... 200 OK\n",
            "Length: 4503593528 (4.2G) [application/octet-stream]\n",
            "Saving to: ‘/content/drive/My Drive/cc.en.300.bin.gz’\n",
            "\n",
            "cc.en.300.bin.gz    100%[===================>]   4.19G  12.4MB/s    in 5m 49s  \n",
            "\n",
            "2020-06-17 06:42:58 (12.3 MB/s) - ‘/content/drive/My Drive/cc.en.300.bin.gz’ saved [4503593528/4503593528]\n",
            "\n",
            "--2020-06-17 06:43:01--  https://dl.fbaipublicfiles.com/fasttext/vectors-crawl/cc.es.300.bin.gz\n",
            "Resolving dl.fbaipublicfiles.com (dl.fbaipublicfiles.com)... 104.22.74.142, 172.67.9.4, 104.22.75.142, ...\n",
            "Connecting to dl.fbaipublicfiles.com (dl.fbaipublicfiles.com)|104.22.74.142|:443... connected.\n",
            "HTTP request sent, awaiting response... 200 OK\n",
            "Length: 4500107671 (4.2G) [application/octet-stream]\n",
            "Saving to: ‘/content/drive/My Drive/cc.es.300.bin.gz’\n",
            "\n",
            "cc.es.300.bin.gz    100%[===================>]   4.19G  12.0MB/s    in 6m 24s  \n",
            "\n",
            "2020-06-17 06:49:26 (11.2 MB/s) - ‘/content/drive/My Drive/cc.es.300.bin.gz’ saved [4500107671/4500107671]\n",
            "\n"
          ],
          "name": "stdout"
        }
      ]
    },
    {
      "cell_type": "code",
      "metadata": {
        "id": "rrNA-SmO9UvB",
        "colab_type": "code",
        "colab": {}
      },
      "source": [
        "import fasttext.util"
      ],
      "execution_count": 18,
      "outputs": []
    },
    {
      "cell_type": "code",
      "metadata": {
        "id": "_Gse3kDf9DsJ",
        "colab_type": "code",
        "colab": {
          "base_uri": "https://localhost:8080/",
          "height": 87
        },
        "outputId": "237af361-af37-4a54-8e85-2606a76d26a1"
      },
      "source": [
        "fasttext.util.download_model('es',if_exists='ignore')"
      ],
      "execution_count": 52,
      "outputs": [
        {
          "output_type": "stream",
          "text": [
            "Downloading https://dl.fbaipublicfiles.com/fasttext/vectors-crawl/cc.es.300.bin.gz\n",
            "\n"
          ],
          "name": "stdout"
        },
        {
          "output_type": "execute_result",
          "data": {
            "text/plain": [
              "'cc.es.300.bin'"
            ]
          },
          "metadata": {
            "tags": []
          },
          "execution_count": 52
        }
      ]
    },
    {
      "cell_type": "code",
      "metadata": {
        "id": "skKGzVjHApI6",
        "colab_type": "code",
        "colab": {
          "base_uri": "https://localhost:8080/",
          "height": 87
        },
        "outputId": "ec4adc01-5147-4679-a982-f0e232d89726"
      },
      "source": [
        "fasttext.util.download_model('en',if_exists='ignore')"
      ],
      "execution_count": 19,
      "outputs": [
        {
          "output_type": "stream",
          "text": [
            "Downloading https://dl.fbaipublicfiles.com/fasttext/vectors-crawl/cc.en.300.bin.gz\n",
            "\n"
          ],
          "name": "stdout"
        },
        {
          "output_type": "execute_result",
          "data": {
            "text/plain": [
              "'cc.en.300.bin'"
            ]
          },
          "metadata": {
            "tags": []
          },
          "execution_count": 19
        }
      ]
    },
    {
      "cell_type": "code",
      "metadata": {
        "id": "qpABdQkIGCSR",
        "colab_type": "code",
        "colab": {
          "base_uri": "https://localhost:8080/"
        },
        "outputId": "d2218a1b-83f2-40ca-fedf-96b587ed5d63"
      },
      "source": [
        "#es_vecs = ft.load_model('cc.es.300.bin')\n",
        "en_vecs = ft.load_model('cc.en.300.bin')"
      ],
      "execution_count": 20,
      "outputs": [
        {
          "output_type": "stream",
          "text": [
            "Warning : `load_model` does not return WordVectorModel or SupervisedModel any more, but a `FastText` object which is very similar.\n"
          ],
          "name": "stderr"
        }
      ]
    },
    {
      "cell_type": "code",
      "metadata": {
        "id": "O7izNQ8OF7AA",
        "colab_type": "code",
        "colab": {}
      },
      "source": [
        "def create_emb(vecs, itos, em_sz=300, mult=1.):\n",
        "  emb = nn.Embedding(len(itos), em_sz, padding_idx=1)\n",
        "  wgts = emb.weight.data\n",
        "  vec_dic = {w: vecs.get_word_vector(w) for w in vecs.get_words()}\n",
        "  miss = []\n",
        "  for i,w in enumerate(itos):\n",
        "    try: wgts[i] = tensor(vec_dic[w])\n",
        "    except: miss.append(w)\n",
        "  return emb"
      ],
      "execution_count": 12,
      "outputs": []
    },
    {
      "cell_type": "code",
      "metadata": {
        "id": "-7pwlcfojc72",
        "colab_type": "code",
        "colab": {}
      },
      "source": [
        "#emb_enc = create_emb(es_vecs, data.x.vocab.itos)\n",
        "emb_dec = create_emb(en_vecs, data.y.vocab.itos)"
      ],
      "execution_count": 21,
      "outputs": []
    },
    {
      "cell_type": "code",
      "metadata": {
        "id": "R8SvBZf1q0gY",
        "colab_type": "code",
        "colab": {
          "base_uri": "https://localhost:8080/"
        },
        "outputId": "32712b37-2494-4598-beb9-8435736b62e5"
      },
      "source": [
        "print(emb_enc.weight.size())\n",
        "print(emb_dec.weight.size())"
      ],
      "execution_count": null,
      "outputs": [
        {
          "output_type": "stream",
          "text": [
            "torch.Size([5424, 300])\n",
            "torch.Size([4576, 300])\n"
          ],
          "name": "stdout"
        }
      ]
    },
    {
      "cell_type": "code",
      "metadata": {
        "id": "a1AA7Hrck1kc",
        "colab_type": "code",
        "colab": {}
      },
      "source": [
        "#torch.save(emb_enc,'/content/drive/My Drive/es_emb.pth')\n",
        "torch.save(emb_dec,'/content/drive/My Drive/en_emb.pth')"
      ],
      "execution_count": 22,
      "outputs": []
    },
    {
      "cell_type": "code",
      "metadata": {
        "id": "f0KOOeLjpSEZ",
        "colab_type": "code",
        "colab": {}
      },
      "source": [
        "emb_enc = torch.load('/content/drive/My Drive/es_emb.pth')\n",
        "emb_dec = torch.load('/content/drive/My Drive/en_emb.pth')"
      ],
      "execution_count": 8,
      "outputs": []
    },
    {
      "cell_type": "markdown",
      "metadata": {
        "id": "46EgssKvyLmW",
        "colab_type": "text"
      },
      "source": [
        "## Model Creation"
      ]
    },
    {
      "cell_type": "markdown",
      "metadata": {
        "id": "LQtIX1JI9L-C",
        "colab_type": "text"
      },
      "source": [
        "### Seq2seq with RNN"
      ]
    },
    {
      "cell_type": "code",
      "metadata": {
        "id": "geT5EFeax7WT",
        "colab_type": "code",
        "colab": {}
      },
      "source": [
        "class Seq2SeqRNN(nn.Module):\n",
        "  def __init__(self, emb_enc, emb_dec, nh, out_sl, nl=2, bos_idx=0, pad_idx=1):\n",
        "    super().__init__()\n",
        "    self.nl, self.nh, self.out_sl = nl, nh, out_sl\n",
        "    self.bos_idx, self.pad_idx = bos_idx, pad_idx\n",
        "    self.emb_sz_enc = emb_enc.embedding_dim\n",
        "    self.emb_sz_dec = emb_dec.embedding_dim\n",
        "    self.voc_sz_dec = emb_dec.num_embeddings\n",
        "    \n",
        "    self.emb_enc = emb_enc\n",
        "    self.emb_enc_drop = nn.Dropout(0.15)\n",
        "    self.gru_enc = nn.GRU(self.emb_sz_enc, nh, num_layers=nl, dropout=0.25, batch_first=True)\n",
        "    self.out_enc = nn.Linear(nh, self.emb_sz_dec, bias=False)\n",
        "\n",
        "    self.emb_dec = emb_dec\n",
        "    self.gru_dec = nn.GRU(self.emb_sz_dec, self.emb_sz_dec, num_layers=nl, dropout=0.1, batch_first=True)\n",
        "    self.out_drop = nn.Dropout(0.35)\n",
        "    self.out = nn.Linear(self.emb_sz_dec, self.voc_sz_dec)\n",
        "    self.out.weight.data = self.emb_dec.weight.data\n",
        "\n",
        "  def initHidden(self, bs): return one_param(self).new_zeros(self.nl, bs, self.nh)\n",
        "\n",
        "  def encoder(self, bs, inp):\n",
        "    h = self.initHidden(bs)\n",
        "    emb = self.emb_enc_drop(self.emb_enc(inp))\n",
        "    _, h = self.gru_enc(emb, h)\n",
        "    h = self.out_enc(h)\n",
        "    return h\n",
        "\n",
        "  def decoder(self, dec_inp, h):\n",
        "    emb = self.emb_dec(dec_inp).unsqueeze(1)\n",
        "    outp, h = self.gru_dec(emb, h)\n",
        "    outp = self.out(self.out_drop(outp[:,0]))\n",
        "    return h, outp\n",
        "\n",
        "  def forward(self, inp):\n",
        "    bs, sl = inp.size()\n",
        "    h = self.encoder(bs, inp)\n",
        "    dec_inp = inp.new_zeros(bs).long() + self.bos_idx\n",
        "\n",
        "    res = []\n",
        "    for i in range(self.out_sl):\n",
        "      h, outp = self.decoder(dec_inp, h)\n",
        "      dec_inp = outp.max(1)[1]\n",
        "      res.append(outp)\n",
        "      if (dec_inp == self.pad_idx).all(): break\n",
        "    return torch.stack(res, dim=1)"
      ],
      "execution_count": 16,
      "outputs": []
    },
    {
      "cell_type": "code",
      "metadata": {
        "id": "pU1wVktC6zsb",
        "colab_type": "code",
        "colab": {}
      },
      "source": [
        "xb,yb = next(iter(data.train_dl))"
      ],
      "execution_count": null,
      "outputs": []
    },
    {
      "cell_type": "code",
      "metadata": {
        "id": "utTPlAQWc5rI",
        "colab_type": "code",
        "colab": {}
      },
      "source": [
        "rnn = Seq2SeqRNN(emb_enc, emb_dec, 256, 73)"
      ],
      "execution_count": 28,
      "outputs": []
    },
    {
      "cell_type": "code",
      "metadata": {
        "id": "FEXfF7RE770q",
        "colab_type": "code",
        "colab": {
          "base_uri": "https://localhost:8080/",
          "height": 203
        },
        "outputId": "b7be3dd4-9e53-4ccb-f88b-8f7be05ce11c"
      },
      "source": [
        "rnn"
      ],
      "execution_count": 29,
      "outputs": [
        {
          "output_type": "execute_result",
          "data": {
            "text/plain": [
              "Seq2SeqRNN(\n",
              "  (emb_enc): Embedding(5424, 300, padding_idx=1)\n",
              "  (emb_enc_drop): Dropout(p=0.15, inplace=False)\n",
              "  (gru_enc): GRU(300, 256, num_layers=2, batch_first=True, dropout=0.25)\n",
              "  (out_enc): Linear(in_features=256, out_features=300, bias=False)\n",
              "  (emb_dec): Embedding(4576, 300, padding_idx=1)\n",
              "  (gru_dec): GRU(300, 300, num_layers=2, batch_first=True, dropout=0.1)\n",
              "  (out_drop): Dropout(p=0.35, inplace=False)\n",
              "  (out): Linear(in_features=300, out_features=4576, bias=True)\n",
              ")"
            ]
          },
          "metadata": {
            "tags": []
          },
          "execution_count": 29
        }
      ]
    },
    {
      "cell_type": "code",
      "metadata": {
        "id": "dwG5u_XI78pQ",
        "colab_type": "code",
        "colab": {}
      },
      "source": [
        "xb,yb=next(iter(data.valid_dl))"
      ],
      "execution_count": 14,
      "outputs": []
    },
    {
      "cell_type": "code",
      "metadata": {
        "id": "HZKiJHKKFmgO",
        "colab_type": "code",
        "colab": {
          "base_uri": "https://localhost:8080/",
          "height": 54
        },
        "outputId": "e431cb61-68c7-42c5-ee0f-6b7de8b80aba"
      },
      "source": [
        "yb.shape"
      ],
      "execution_count": null,
      "outputs": [
        {
          "output_type": "execute_result",
          "data": {
            "text/plain": [
              "torch.Size([64, 73])"
            ]
          },
          "metadata": {
            "tags": []
          },
          "execution_count": 27
        }
      ]
    },
    {
      "cell_type": "code",
      "metadata": {
        "id": "l09oojb_8FrZ",
        "colab_type": "code",
        "colab": {}
      },
      "source": [
        "h = rnn.encoder(64, xb.cpu())"
      ],
      "execution_count": 19,
      "outputs": []
    },
    {
      "cell_type": "code",
      "metadata": {
        "id": "FU8HUa6a8OsG",
        "colab_type": "code",
        "colab": {
          "base_uri": "https://localhost:8080/",
          "height": 54
        },
        "outputId": "c5e0d60d-7658-4778-9295-7953f702aff3"
      },
      "source": [
        "h.size()"
      ],
      "execution_count": 20,
      "outputs": [
        {
          "output_type": "execute_result",
          "data": {
            "text/plain": [
              "torch.Size([2, 64, 300])"
            ]
          },
          "metadata": {
            "tags": []
          },
          "execution_count": 20
        }
      ]
    },
    {
      "cell_type": "code",
      "metadata": {
        "id": "kbCb5PcE8QDh",
        "colab_type": "code",
        "colab": {}
      },
      "source": [
        "def seq2seqloss(out, targ, pad_idx=1):\n",
        "  bs, targ_len = targ.size()\n",
        "  _ ,out_len,vs = out.size()\n",
        "  if targ_len > out_len: out = F.pad(out, (0,0,0,targ_len-out_len,0,0), value=pad_idx)\n",
        "  if out_len > targ_len : targ = F.pad(targ, (0,out_len-targ_len,0,0), value=pad_idx)\n",
        "  return CrossEntropyFlat()(out,targ)"
      ],
      "execution_count": 32,
      "outputs": []
    },
    {
      "cell_type": "markdown",
      "metadata": {
        "id": "XD4H_oob9GHs",
        "colab_type": "text"
      },
      "source": [
        "#### Training"
      ]
    },
    {
      "cell_type": "code",
      "metadata": {
        "id": "Zi8pqHUK9D3m",
        "colab_type": "code",
        "colab": {}
      },
      "source": [
        "learn = Learner(data, rnn, loss_func=seq2seqloss)"
      ],
      "execution_count": 33,
      "outputs": []
    },
    {
      "cell_type": "code",
      "metadata": {
        "id": "Qor1ComF9X_e",
        "colab_type": "code",
        "colab": {
          "base_uri": "https://localhost:8080/",
          "height": 424
        },
        "outputId": "a5c01299-efe4-4c36-9e69-c0f453392768"
      },
      "source": [
        "learn.lr_find()\n",
        "learn.recorder.plot()"
      ],
      "execution_count": 34,
      "outputs": [
        {
          "output_type": "display_data",
          "data": {
            "text/html": [
              "\n",
              "    <div>\n",
              "        <style>\n",
              "            /* Turns off some styling */\n",
              "            progress {\n",
              "                /* gets rid of default border in Firefox and Opera. */\n",
              "                border: none;\n",
              "                /* Needs to be in here for Safari polyfill so background images work as expected. */\n",
              "                background-size: auto;\n",
              "            }\n",
              "            .progress-bar-interrupted, .progress-bar-interrupted::-webkit-progress-bar {\n",
              "                background: #F44336;\n",
              "            }\n",
              "        </style>\n",
              "      <progress value='1' class='' max='2' style='width:300px; height:20px; vertical-align: middle;'></progress>\n",
              "      50.00% [1/2 00:09<00:09]\n",
              "    </div>\n",
              "    \n",
              "<table border=\"1\" class=\"dataframe\">\n",
              "  <thead>\n",
              "    <tr style=\"text-align: left;\">\n",
              "      <th>epoch</th>\n",
              "      <th>train_loss</th>\n",
              "      <th>valid_loss</th>\n",
              "      <th>time</th>\n",
              "    </tr>\n",
              "  </thead>\n",
              "  <tbody>\n",
              "    <tr>\n",
              "      <td>0</td>\n",
              "      <td>28.540850</td>\n",
              "      <td>#na#</td>\n",
              "      <td>00:09</td>\n",
              "    </tr>\n",
              "  </tbody>\n",
              "</table><p>\n",
              "\n",
              "    <div>\n",
              "        <style>\n",
              "            /* Turns off some styling */\n",
              "            progress {\n",
              "                /* gets rid of default border in Firefox and Opera. */\n",
              "                border: none;\n",
              "                /* Needs to be in here for Safari polyfill so background images work as expected. */\n",
              "                background-size: auto;\n",
              "            }\n",
              "            .progress-bar-interrupted, .progress-bar-interrupted::-webkit-progress-bar {\n",
              "                background: #F44336;\n",
              "            }\n",
              "        </style>\n",
              "      <progress value='1' class='' max='77' style='width:300px; height:20px; vertical-align: middle;'></progress>\n",
              "      1.30% [1/77 00:00<00:30 31.5673]\n",
              "    </div>\n",
              "    "
            ],
            "text/plain": [
              "<IPython.core.display.HTML object>"
            ]
          },
          "metadata": {
            "tags": []
          }
        },
        {
          "output_type": "stream",
          "text": [
            "LR Finder is complete, type {learner_name}.recorder.plot() to see the graph.\n"
          ],
          "name": "stdout"
        },
        {
          "output_type": "display_data",
          "data": {
            "image/png": "[encoded data removed]",
            "text/plain": [
              "<Figure size 432x288 with 1 Axes>"
            ]
          },
          "metadata": {
            "tags": [],
            "needs_background": "light"
          }
        }
      ]
    },
    {
      "cell_type": "code",
      "metadata": {
        "id": "bW6xpbe15pR9",
        "colab_type": "code",
        "colab": {
          "base_uri": "https://localhost:8080/",
          "height": 191
        },
        "outputId": "8128a3b8-e296-4a29-ff78-0ffd97cfc94d"
      },
      "source": [
        "learn.fit_one_cycle(4,1e-3)"
      ],
      "execution_count": 35,
      "outputs": [
        {
          "output_type": "display_data",
          "data": {
            "text/html": [
              "<table border=\"1\" class=\"dataframe\">\n",
              "  <thead>\n",
              "    <tr style=\"text-align: left;\">\n",
              "      <th>epoch</th>\n",
              "      <th>train_loss</th>\n",
              "      <th>valid_loss</th>\n",
              "      <th>time</th>\n",
              "    </tr>\n",
              "  </thead>\n",
              "  <tbody>\n",
              "    <tr>\n",
              "      <td>0</td>\n",
              "      <td>7.269140</td>\n",
              "      <td>6.823577</td>\n",
              "      <td>00:09</td>\n",
              "    </tr>\n",
              "    <tr>\n",
              "      <td>1</td>\n",
              "      <td>6.175524</td>\n",
              "      <td>6.570411</td>\n",
              "      <td>00:06</td>\n",
              "    </tr>\n",
              "    <tr>\n",
              "      <td>2</td>\n",
              "      <td>6.660520</td>\n",
              "      <td>6.620895</td>\n",
              "      <td>00:05</td>\n",
              "    </tr>\n",
              "    <tr>\n",
              "      <td>3</td>\n",
              "      <td>6.486324</td>\n",
              "      <td>6.974120</td>\n",
              "      <td>00:05</td>\n",
              "    </tr>\n",
              "  </tbody>\n",
              "</table>"
            ],
            "text/plain": [
              "<IPython.core.display.HTML object>"
            ]
          },
          "metadata": {
            "tags": []
          }
        }
      ]
    },
    {
      "cell_type": "code",
      "metadata": {
        "id": "6QGX_aae9cwD",
        "colab_type": "code",
        "colab": {}
      },
      "source": [
        ""
      ],
      "execution_count": null,
      "outputs": []
    }
  ]
}